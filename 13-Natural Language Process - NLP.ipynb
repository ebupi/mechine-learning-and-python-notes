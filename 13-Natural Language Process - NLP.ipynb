{
 "cells": [
  {
   "cell_type": "markdown",
   "id": "8bf7b5e3",
   "metadata": {},
   "source": [
    "# Natural Language Process - NLP\n",
    "\n",
    "    + cleaning data\n",
    "    + bag of words\n",
    "    + text classification\n",
    "    \n",
    "    where is work:\n",
    "    + predict genre of book\n",
    "    + question -answer\n",
    "    + summarization of book\n",
    "    \n",
    "    library:\n",
    "    + nltk\n",
    "    + spacy\n",
    "    + standfor nlp\n",
    "    + open nlp"
   ]
  },
  {
   "cell_type": "code",
   "execution_count": 1,
   "id": "c4917af3",
   "metadata": {},
   "outputs": [],
   "source": [
    "# import library\n",
    "import pandas as pd\n",
    "import numpy as np\n",
    "import matplotlib.pyplot as plt\n",
    "plt.style.use(\"seaborn-whitegrid\")"
   ]
  },
  {
   "cell_type": "code",
   "execution_count": 2,
   "id": "32bdc719",
   "metadata": {},
   "outputs": [],
   "source": [
    "# import twitter data\n",
    "data = pd.read_csv(\"nlp_csv/gender_classifier_nlp.csv\",encoding=\"latin1\")\n",
    "data = pd.concat([data.gender,data.description],axis=1)"
   ]
  },
  {
   "cell_type": "code",
   "execution_count": 3,
   "id": "b3cdaed9",
   "metadata": {},
   "outputs": [
    {
     "data": {
      "text/html": [
       "<div>\n",
       "<style scoped>\n",
       "    .dataframe tbody tr th:only-of-type {\n",
       "        vertical-align: middle;\n",
       "    }\n",
       "\n",
       "    .dataframe tbody tr th {\n",
       "        vertical-align: top;\n",
       "    }\n",
       "\n",
       "    .dataframe thead th {\n",
       "        text-align: right;\n",
       "    }\n",
       "</style>\n",
       "<table border=\"1\" class=\"dataframe\">\n",
       "  <thead>\n",
       "    <tr style=\"text-align: right;\">\n",
       "      <th></th>\n",
       "      <th>gender</th>\n",
       "      <th>description</th>\n",
       "    </tr>\n",
       "  </thead>\n",
       "  <tbody>\n",
       "    <tr>\n",
       "      <th>0</th>\n",
       "      <td>male</td>\n",
       "      <td>i sing my own rhythm.</td>\n",
       "    </tr>\n",
       "    <tr>\n",
       "      <th>1</th>\n",
       "      <td>male</td>\n",
       "      <td>I'm the author of novels filled with family dr...</td>\n",
       "    </tr>\n",
       "    <tr>\n",
       "      <th>2</th>\n",
       "      <td>male</td>\n",
       "      <td>louis whining and squealing and all</td>\n",
       "    </tr>\n",
       "    <tr>\n",
       "      <th>3</th>\n",
       "      <td>male</td>\n",
       "      <td>Mobile guy.  49ers, Shazam, Google, Kleiner Pe...</td>\n",
       "    </tr>\n",
       "    <tr>\n",
       "      <th>4</th>\n",
       "      <td>female</td>\n",
       "      <td>Ricky Wilson The Best FRONTMAN/Kaiser Chiefs T...</td>\n",
       "    </tr>\n",
       "  </tbody>\n",
       "</table>\n",
       "</div>"
      ],
      "text/plain": [
       "   gender                                        description\n",
       "0    male                              i sing my own rhythm.\n",
       "1    male  I'm the author of novels filled with family dr...\n",
       "2    male                louis whining and squealing and all\n",
       "3    male  Mobile guy.  49ers, Shazam, Google, Kleiner Pe...\n",
       "4  female  Ricky Wilson The Best FRONTMAN/Kaiser Chiefs T..."
      ]
     },
     "execution_count": 3,
     "metadata": {},
     "output_type": "execute_result"
    }
   ],
   "source": [
    "data.head()"
   ]
  },
  {
   "cell_type": "code",
   "execution_count": 4,
   "id": "4c366691",
   "metadata": {},
   "outputs": [
    {
     "data": {
      "text/html": [
       "<div>\n",
       "<style scoped>\n",
       "    .dataframe tbody tr th:only-of-type {\n",
       "        vertical-align: middle;\n",
       "    }\n",
       "\n",
       "    .dataframe tbody tr th {\n",
       "        vertical-align: top;\n",
       "    }\n",
       "\n",
       "    .dataframe thead th {\n",
       "        text-align: right;\n",
       "    }\n",
       "</style>\n",
       "<table border=\"1\" class=\"dataframe\">\n",
       "  <thead>\n",
       "    <tr style=\"text-align: right;\">\n",
       "      <th></th>\n",
       "      <th>gender</th>\n",
       "      <th>description</th>\n",
       "    </tr>\n",
       "  </thead>\n",
       "  <tbody>\n",
       "    <tr>\n",
       "      <th>0</th>\n",
       "      <td>0</td>\n",
       "      <td>i sing my own rhythm.</td>\n",
       "    </tr>\n",
       "    <tr>\n",
       "      <th>1</th>\n",
       "      <td>0</td>\n",
       "      <td>I'm the author of novels filled with family dr...</td>\n",
       "    </tr>\n",
       "    <tr>\n",
       "      <th>2</th>\n",
       "      <td>0</td>\n",
       "      <td>louis whining and squealing and all</td>\n",
       "    </tr>\n",
       "    <tr>\n",
       "      <th>3</th>\n",
       "      <td>0</td>\n",
       "      <td>Mobile guy.  49ers, Shazam, Google, Kleiner Pe...</td>\n",
       "    </tr>\n",
       "    <tr>\n",
       "      <th>4</th>\n",
       "      <td>1</td>\n",
       "      <td>Ricky Wilson The Best FRONTMAN/Kaiser Chiefs T...</td>\n",
       "    </tr>\n",
       "  </tbody>\n",
       "</table>\n",
       "</div>"
      ],
      "text/plain": [
       "   gender                                        description\n",
       "0       0                              i sing my own rhythm.\n",
       "1       0  I'm the author of novels filled with family dr...\n",
       "2       0                louis whining and squealing and all\n",
       "3       0  Mobile guy.  49ers, Shazam, Google, Kleiner Pe...\n",
       "4       1  Ricky Wilson The Best FRONTMAN/Kaiser Chiefs T..."
      ]
     },
     "execution_count": 4,
     "metadata": {},
     "output_type": "execute_result"
    }
   ],
   "source": [
    "data.dropna(axis=0,inplace=True)\n",
    "data.gender = [1 if each == \"female\" else 0 for each in data.gender]  # female = 0 , male = 1\n",
    "data.head()"
   ]
  },
  {
   "cell_type": "code",
   "execution_count": 5,
   "id": "4c3bf9ea",
   "metadata": {},
   "outputs": [
    {
     "name": "stdout",
     "output_type": "stream",
     "text": [
      "ilk tanım :  Ricky Wilson The Best FRONTMAN/Kaiser Chiefs The Best BAND Xxxx Thank you Kaiser Chiefs for an incredible year of gigs and memories to cherish always :) Xxxxxxx \n",
      "\n",
      "harf olmayan karaker kaldırma :  Ricky Wilson The Best FRONTMAN Kaiser Chiefs The Best BAND Xxxx Thank you Kaiser Chiefs for an incredible year of gigs and memories to cherish always    Xxxxxxx \n",
      "\n",
      "harfleri küçültme :  ricky wilson the best frontman kaiser chiefs the best band xxxx thank you kaiser chiefs for an incredible year of gigs and memories to cherish always    xxxxxxx\n"
     ]
    }
   ],
   "source": [
    "# cleaning data\n",
    "# regular expression Re\n",
    "import re\n",
    "first_description = data.description[4]\n",
    "print(\"ilk tanım : \",first_description,\"\\n\")\n",
    "description = re.sub(\"[^a-zA-Z]\",\" \",first_description) # a-z ye alma bunlar az olmayanlar yerine \" \" koy\n",
    "print(\"harf olmayan karaker kaldırma : \",description,\"\\n\")\n",
    "description = description.lower() # buyuk harften kucuk harfe cevirme\n",
    "print(\"harfleri küçültme : \",description)"
   ]
  },
  {
   "cell_type": "code",
   "execution_count": 10,
   "id": "bdaca179",
   "metadata": {},
   "outputs": [
    {
     "name": "stderr",
     "output_type": "stream",
     "text": [
      "[nltk_data] Downloading package stopwords to /home/ea/nltk_data...\n",
      "[nltk_data]   Package stopwords is already up-to-date!\n",
      "[nltk_data] Downloading package punkt to /home/ea/nltk_data...\n",
      "[nltk_data]   Package punkt is already up-to-date!\n",
      "[nltk_data] Downloading package wordnet to /home/ea/nltk_data...\n",
      "[nltk_data]   Unzipping corpora/wordnet.zip.\n"
     ]
    },
    {
     "ename": "TypeError",
     "evalue": "expected string or bytes-like object",
     "output_type": "error",
     "traceback": [
      "\u001b[0;31m---------------------------------------------------------------------------\u001b[0m",
      "\u001b[0;31mTypeError\u001b[0m                                 Traceback (most recent call last)",
      "\u001b[0;32m<ipython-input-10-c767f14038be>\u001b[0m in \u001b[0;36m<module>\u001b[0;34m\u001b[0m\n\u001b[1;32m      7\u001b[0m \u001b[0;34m\u001b[0m\u001b[0m\n\u001b[1;32m      8\u001b[0m \u001b[0;31m#description = description.split()\u001b[0m\u001b[0;34m\u001b[0m\u001b[0;34m\u001b[0m\u001b[0;34m\u001b[0m\u001b[0m\n\u001b[0;32m----> 9\u001b[0;31m \u001b[0mdescription\u001b[0m \u001b[0;34m=\u001b[0m \u001b[0mnltk\u001b[0m\u001b[0;34m.\u001b[0m\u001b[0mword_tokenize\u001b[0m\u001b[0;34m(\u001b[0m\u001b[0mdescription\u001b[0m\u001b[0;34m)\u001b[0m\u001b[0;34m\u001b[0m\u001b[0;34m\u001b[0m\u001b[0m\n\u001b[0m",
      "\u001b[0;32m~/anaconda3/lib/python3.8/site-packages/nltk/tokenize/__init__.py\u001b[0m in \u001b[0;36mword_tokenize\u001b[0;34m(text, language, preserve_line)\u001b[0m\n\u001b[1;32m    128\u001b[0m     \u001b[0;34m:\u001b[0m\u001b[0mtype\u001b[0m \u001b[0mpreserve_line\u001b[0m\u001b[0;34m:\u001b[0m \u001b[0mbool\u001b[0m\u001b[0;34m\u001b[0m\u001b[0;34m\u001b[0m\u001b[0m\n\u001b[1;32m    129\u001b[0m     \"\"\"\n\u001b[0;32m--> 130\u001b[0;31m     \u001b[0msentences\u001b[0m \u001b[0;34m=\u001b[0m \u001b[0;34m[\u001b[0m\u001b[0mtext\u001b[0m\u001b[0;34m]\u001b[0m \u001b[0;32mif\u001b[0m \u001b[0mpreserve_line\u001b[0m \u001b[0;32melse\u001b[0m \u001b[0msent_tokenize\u001b[0m\u001b[0;34m(\u001b[0m\u001b[0mtext\u001b[0m\u001b[0;34m,\u001b[0m \u001b[0mlanguage\u001b[0m\u001b[0;34m)\u001b[0m\u001b[0;34m\u001b[0m\u001b[0;34m\u001b[0m\u001b[0m\n\u001b[0m\u001b[1;32m    131\u001b[0m     return [\n\u001b[1;32m    132\u001b[0m         \u001b[0mtoken\u001b[0m \u001b[0;32mfor\u001b[0m \u001b[0msent\u001b[0m \u001b[0;32min\u001b[0m \u001b[0msentences\u001b[0m \u001b[0;32mfor\u001b[0m \u001b[0mtoken\u001b[0m \u001b[0;32min\u001b[0m \u001b[0m_treebank_word_tokenizer\u001b[0m\u001b[0;34m.\u001b[0m\u001b[0mtokenize\u001b[0m\u001b[0;34m(\u001b[0m\u001b[0msent\u001b[0m\u001b[0;34m)\u001b[0m\u001b[0;34m\u001b[0m\u001b[0;34m\u001b[0m\u001b[0m\n",
      "\u001b[0;32m~/anaconda3/lib/python3.8/site-packages/nltk/tokenize/__init__.py\u001b[0m in \u001b[0;36msent_tokenize\u001b[0;34m(text, language)\u001b[0m\n\u001b[1;32m    106\u001b[0m     \"\"\"\n\u001b[1;32m    107\u001b[0m     \u001b[0mtokenizer\u001b[0m \u001b[0;34m=\u001b[0m \u001b[0mload\u001b[0m\u001b[0;34m(\u001b[0m\u001b[0;34m\"tokenizers/punkt/{0}.pickle\"\u001b[0m\u001b[0;34m.\u001b[0m\u001b[0mformat\u001b[0m\u001b[0;34m(\u001b[0m\u001b[0mlanguage\u001b[0m\u001b[0;34m)\u001b[0m\u001b[0;34m)\u001b[0m\u001b[0;34m\u001b[0m\u001b[0;34m\u001b[0m\u001b[0m\n\u001b[0;32m--> 108\u001b[0;31m     \u001b[0;32mreturn\u001b[0m \u001b[0mtokenizer\u001b[0m\u001b[0;34m.\u001b[0m\u001b[0mtokenize\u001b[0m\u001b[0;34m(\u001b[0m\u001b[0mtext\u001b[0m\u001b[0;34m)\u001b[0m\u001b[0;34m\u001b[0m\u001b[0;34m\u001b[0m\u001b[0m\n\u001b[0m\u001b[1;32m    109\u001b[0m \u001b[0;34m\u001b[0m\u001b[0m\n\u001b[1;32m    110\u001b[0m \u001b[0;34m\u001b[0m\u001b[0m\n",
      "\u001b[0;32m~/anaconda3/lib/python3.8/site-packages/nltk/tokenize/punkt.py\u001b[0m in \u001b[0;36mtokenize\u001b[0;34m(self, text, realign_boundaries)\u001b[0m\n\u001b[1;32m   1272\u001b[0m         \u001b[0mGiven\u001b[0m \u001b[0ma\u001b[0m \u001b[0mtext\u001b[0m\u001b[0;34m,\u001b[0m \u001b[0mreturns\u001b[0m \u001b[0ma\u001b[0m \u001b[0mlist\u001b[0m \u001b[0mof\u001b[0m \u001b[0mthe\u001b[0m \u001b[0msentences\u001b[0m \u001b[0;32min\u001b[0m \u001b[0mthat\u001b[0m \u001b[0mtext\u001b[0m\u001b[0;34m.\u001b[0m\u001b[0;34m\u001b[0m\u001b[0;34m\u001b[0m\u001b[0m\n\u001b[1;32m   1273\u001b[0m         \"\"\"\n\u001b[0;32m-> 1274\u001b[0;31m         \u001b[0;32mreturn\u001b[0m \u001b[0mlist\u001b[0m\u001b[0;34m(\u001b[0m\u001b[0mself\u001b[0m\u001b[0;34m.\u001b[0m\u001b[0msentences_from_text\u001b[0m\u001b[0;34m(\u001b[0m\u001b[0mtext\u001b[0m\u001b[0;34m,\u001b[0m \u001b[0mrealign_boundaries\u001b[0m\u001b[0;34m)\u001b[0m\u001b[0;34m)\u001b[0m\u001b[0;34m\u001b[0m\u001b[0;34m\u001b[0m\u001b[0m\n\u001b[0m\u001b[1;32m   1275\u001b[0m \u001b[0;34m\u001b[0m\u001b[0m\n\u001b[1;32m   1276\u001b[0m     \u001b[0;32mdef\u001b[0m \u001b[0mdebug_decisions\u001b[0m\u001b[0;34m(\u001b[0m\u001b[0mself\u001b[0m\u001b[0;34m,\u001b[0m \u001b[0mtext\u001b[0m\u001b[0;34m)\u001b[0m\u001b[0;34m:\u001b[0m\u001b[0;34m\u001b[0m\u001b[0;34m\u001b[0m\u001b[0m\n",
      "\u001b[0;32m~/anaconda3/lib/python3.8/site-packages/nltk/tokenize/punkt.py\u001b[0m in \u001b[0;36msentences_from_text\u001b[0;34m(self, text, realign_boundaries)\u001b[0m\n\u001b[1;32m   1326\u001b[0m         \u001b[0mfollows\u001b[0m \u001b[0mthe\u001b[0m \u001b[0mperiod\u001b[0m\u001b[0;34m.\u001b[0m\u001b[0;34m\u001b[0m\u001b[0;34m\u001b[0m\u001b[0m\n\u001b[1;32m   1327\u001b[0m         \"\"\"\n\u001b[0;32m-> 1328\u001b[0;31m         \u001b[0;32mreturn\u001b[0m \u001b[0;34m[\u001b[0m\u001b[0mtext\u001b[0m\u001b[0;34m[\u001b[0m\u001b[0ms\u001b[0m\u001b[0;34m:\u001b[0m\u001b[0me\u001b[0m\u001b[0;34m]\u001b[0m \u001b[0;32mfor\u001b[0m \u001b[0ms\u001b[0m\u001b[0;34m,\u001b[0m \u001b[0me\u001b[0m \u001b[0;32min\u001b[0m \u001b[0mself\u001b[0m\u001b[0;34m.\u001b[0m\u001b[0mspan_tokenize\u001b[0m\u001b[0;34m(\u001b[0m\u001b[0mtext\u001b[0m\u001b[0;34m,\u001b[0m \u001b[0mrealign_boundaries\u001b[0m\u001b[0;34m)\u001b[0m\u001b[0;34m]\u001b[0m\u001b[0;34m\u001b[0m\u001b[0;34m\u001b[0m\u001b[0m\n\u001b[0m\u001b[1;32m   1329\u001b[0m \u001b[0;34m\u001b[0m\u001b[0m\n\u001b[1;32m   1330\u001b[0m     \u001b[0;32mdef\u001b[0m \u001b[0m_slices_from_text\u001b[0m\u001b[0;34m(\u001b[0m\u001b[0mself\u001b[0m\u001b[0;34m,\u001b[0m \u001b[0mtext\u001b[0m\u001b[0;34m)\u001b[0m\u001b[0;34m:\u001b[0m\u001b[0;34m\u001b[0m\u001b[0;34m\u001b[0m\u001b[0m\n",
      "\u001b[0;32m~/anaconda3/lib/python3.8/site-packages/nltk/tokenize/punkt.py\u001b[0m in \u001b[0;36m<listcomp>\u001b[0;34m(.0)\u001b[0m\n\u001b[1;32m   1326\u001b[0m         \u001b[0mfollows\u001b[0m \u001b[0mthe\u001b[0m \u001b[0mperiod\u001b[0m\u001b[0;34m.\u001b[0m\u001b[0;34m\u001b[0m\u001b[0;34m\u001b[0m\u001b[0m\n\u001b[1;32m   1327\u001b[0m         \"\"\"\n\u001b[0;32m-> 1328\u001b[0;31m         \u001b[0;32mreturn\u001b[0m \u001b[0;34m[\u001b[0m\u001b[0mtext\u001b[0m\u001b[0;34m[\u001b[0m\u001b[0ms\u001b[0m\u001b[0;34m:\u001b[0m\u001b[0me\u001b[0m\u001b[0;34m]\u001b[0m \u001b[0;32mfor\u001b[0m \u001b[0ms\u001b[0m\u001b[0;34m,\u001b[0m \u001b[0me\u001b[0m \u001b[0;32min\u001b[0m \u001b[0mself\u001b[0m\u001b[0;34m.\u001b[0m\u001b[0mspan_tokenize\u001b[0m\u001b[0;34m(\u001b[0m\u001b[0mtext\u001b[0m\u001b[0;34m,\u001b[0m \u001b[0mrealign_boundaries\u001b[0m\u001b[0;34m)\u001b[0m\u001b[0;34m]\u001b[0m\u001b[0;34m\u001b[0m\u001b[0;34m\u001b[0m\u001b[0m\n\u001b[0m\u001b[1;32m   1329\u001b[0m \u001b[0;34m\u001b[0m\u001b[0m\n\u001b[1;32m   1330\u001b[0m     \u001b[0;32mdef\u001b[0m \u001b[0m_slices_from_text\u001b[0m\u001b[0;34m(\u001b[0m\u001b[0mself\u001b[0m\u001b[0;34m,\u001b[0m \u001b[0mtext\u001b[0m\u001b[0;34m)\u001b[0m\u001b[0;34m:\u001b[0m\u001b[0;34m\u001b[0m\u001b[0;34m\u001b[0m\u001b[0m\n",
      "\u001b[0;32m~/anaconda3/lib/python3.8/site-packages/nltk/tokenize/punkt.py\u001b[0m in \u001b[0;36mspan_tokenize\u001b[0;34m(self, text, realign_boundaries)\u001b[0m\n\u001b[1;32m   1316\u001b[0m         \u001b[0;32mif\u001b[0m \u001b[0mrealign_boundaries\u001b[0m\u001b[0;34m:\u001b[0m\u001b[0;34m\u001b[0m\u001b[0;34m\u001b[0m\u001b[0m\n\u001b[1;32m   1317\u001b[0m             \u001b[0mslices\u001b[0m \u001b[0;34m=\u001b[0m \u001b[0mself\u001b[0m\u001b[0;34m.\u001b[0m\u001b[0m_realign_boundaries\u001b[0m\u001b[0;34m(\u001b[0m\u001b[0mtext\u001b[0m\u001b[0;34m,\u001b[0m \u001b[0mslices\u001b[0m\u001b[0;34m)\u001b[0m\u001b[0;34m\u001b[0m\u001b[0;34m\u001b[0m\u001b[0m\n\u001b[0;32m-> 1318\u001b[0;31m         \u001b[0;32mfor\u001b[0m \u001b[0msl\u001b[0m \u001b[0;32min\u001b[0m \u001b[0mslices\u001b[0m\u001b[0;34m:\u001b[0m\u001b[0;34m\u001b[0m\u001b[0;34m\u001b[0m\u001b[0m\n\u001b[0m\u001b[1;32m   1319\u001b[0m             \u001b[0;32myield\u001b[0m \u001b[0;34m(\u001b[0m\u001b[0msl\u001b[0m\u001b[0;34m.\u001b[0m\u001b[0mstart\u001b[0m\u001b[0;34m,\u001b[0m \u001b[0msl\u001b[0m\u001b[0;34m.\u001b[0m\u001b[0mstop\u001b[0m\u001b[0;34m)\u001b[0m\u001b[0;34m\u001b[0m\u001b[0;34m\u001b[0m\u001b[0m\n\u001b[1;32m   1320\u001b[0m \u001b[0;34m\u001b[0m\u001b[0m\n",
      "\u001b[0;32m~/anaconda3/lib/python3.8/site-packages/nltk/tokenize/punkt.py\u001b[0m in \u001b[0;36m_realign_boundaries\u001b[0;34m(self, text, slices)\u001b[0m\n\u001b[1;32m   1357\u001b[0m         \"\"\"\n\u001b[1;32m   1358\u001b[0m         \u001b[0mrealign\u001b[0m \u001b[0;34m=\u001b[0m \u001b[0;36m0\u001b[0m\u001b[0;34m\u001b[0m\u001b[0;34m\u001b[0m\u001b[0m\n\u001b[0;32m-> 1359\u001b[0;31m         \u001b[0;32mfor\u001b[0m \u001b[0msl1\u001b[0m\u001b[0;34m,\u001b[0m \u001b[0msl2\u001b[0m \u001b[0;32min\u001b[0m \u001b[0m_pair_iter\u001b[0m\u001b[0;34m(\u001b[0m\u001b[0mslices\u001b[0m\u001b[0;34m)\u001b[0m\u001b[0;34m:\u001b[0m\u001b[0;34m\u001b[0m\u001b[0;34m\u001b[0m\u001b[0m\n\u001b[0m\u001b[1;32m   1360\u001b[0m             \u001b[0msl1\u001b[0m \u001b[0;34m=\u001b[0m \u001b[0mslice\u001b[0m\u001b[0;34m(\u001b[0m\u001b[0msl1\u001b[0m\u001b[0;34m.\u001b[0m\u001b[0mstart\u001b[0m \u001b[0;34m+\u001b[0m \u001b[0mrealign\u001b[0m\u001b[0;34m,\u001b[0m \u001b[0msl1\u001b[0m\u001b[0;34m.\u001b[0m\u001b[0mstop\u001b[0m\u001b[0;34m)\u001b[0m\u001b[0;34m\u001b[0m\u001b[0;34m\u001b[0m\u001b[0m\n\u001b[1;32m   1361\u001b[0m             \u001b[0;32mif\u001b[0m \u001b[0;32mnot\u001b[0m \u001b[0msl2\u001b[0m\u001b[0;34m:\u001b[0m\u001b[0;34m\u001b[0m\u001b[0;34m\u001b[0m\u001b[0m\n",
      "\u001b[0;32m~/anaconda3/lib/python3.8/site-packages/nltk/tokenize/punkt.py\u001b[0m in \u001b[0;36m_pair_iter\u001b[0;34m(it)\u001b[0m\n\u001b[1;32m    314\u001b[0m     \u001b[0mit\u001b[0m \u001b[0;34m=\u001b[0m \u001b[0miter\u001b[0m\u001b[0;34m(\u001b[0m\u001b[0mit\u001b[0m\u001b[0;34m)\u001b[0m\u001b[0;34m\u001b[0m\u001b[0;34m\u001b[0m\u001b[0m\n\u001b[1;32m    315\u001b[0m     \u001b[0;32mtry\u001b[0m\u001b[0;34m:\u001b[0m\u001b[0;34m\u001b[0m\u001b[0;34m\u001b[0m\u001b[0m\n\u001b[0;32m--> 316\u001b[0;31m         \u001b[0mprev\u001b[0m \u001b[0;34m=\u001b[0m \u001b[0mnext\u001b[0m\u001b[0;34m(\u001b[0m\u001b[0mit\u001b[0m\u001b[0;34m)\u001b[0m\u001b[0;34m\u001b[0m\u001b[0;34m\u001b[0m\u001b[0m\n\u001b[0m\u001b[1;32m    317\u001b[0m     \u001b[0;32mexcept\u001b[0m \u001b[0mStopIteration\u001b[0m\u001b[0;34m:\u001b[0m\u001b[0;34m\u001b[0m\u001b[0;34m\u001b[0m\u001b[0m\n\u001b[1;32m    318\u001b[0m         \u001b[0;32mreturn\u001b[0m\u001b[0;34m\u001b[0m\u001b[0;34m\u001b[0m\u001b[0m\n",
      "\u001b[0;32m~/anaconda3/lib/python3.8/site-packages/nltk/tokenize/punkt.py\u001b[0m in \u001b[0;36m_slices_from_text\u001b[0;34m(self, text)\u001b[0m\n\u001b[1;32m   1330\u001b[0m     \u001b[0;32mdef\u001b[0m \u001b[0m_slices_from_text\u001b[0m\u001b[0;34m(\u001b[0m\u001b[0mself\u001b[0m\u001b[0;34m,\u001b[0m \u001b[0mtext\u001b[0m\u001b[0;34m)\u001b[0m\u001b[0;34m:\u001b[0m\u001b[0;34m\u001b[0m\u001b[0;34m\u001b[0m\u001b[0m\n\u001b[1;32m   1331\u001b[0m         \u001b[0mlast_break\u001b[0m \u001b[0;34m=\u001b[0m \u001b[0;36m0\u001b[0m\u001b[0;34m\u001b[0m\u001b[0;34m\u001b[0m\u001b[0m\n\u001b[0;32m-> 1332\u001b[0;31m         \u001b[0;32mfor\u001b[0m \u001b[0mmatch\u001b[0m \u001b[0;32min\u001b[0m \u001b[0mself\u001b[0m\u001b[0;34m.\u001b[0m\u001b[0m_lang_vars\u001b[0m\u001b[0;34m.\u001b[0m\u001b[0mperiod_context_re\u001b[0m\u001b[0;34m(\u001b[0m\u001b[0;34m)\u001b[0m\u001b[0;34m.\u001b[0m\u001b[0mfinditer\u001b[0m\u001b[0;34m(\u001b[0m\u001b[0mtext\u001b[0m\u001b[0;34m)\u001b[0m\u001b[0;34m:\u001b[0m\u001b[0;34m\u001b[0m\u001b[0;34m\u001b[0m\u001b[0m\n\u001b[0m\u001b[1;32m   1333\u001b[0m             \u001b[0mcontext\u001b[0m \u001b[0;34m=\u001b[0m \u001b[0mmatch\u001b[0m\u001b[0;34m.\u001b[0m\u001b[0mgroup\u001b[0m\u001b[0;34m(\u001b[0m\u001b[0;34m)\u001b[0m \u001b[0;34m+\u001b[0m \u001b[0mmatch\u001b[0m\u001b[0;34m.\u001b[0m\u001b[0mgroup\u001b[0m\u001b[0;34m(\u001b[0m\u001b[0;34m\"after_tok\"\u001b[0m\u001b[0;34m)\u001b[0m\u001b[0;34m\u001b[0m\u001b[0;34m\u001b[0m\u001b[0m\n\u001b[1;32m   1334\u001b[0m             \u001b[0;32mif\u001b[0m \u001b[0mself\u001b[0m\u001b[0;34m.\u001b[0m\u001b[0mtext_contains_sentbreak\u001b[0m\u001b[0;34m(\u001b[0m\u001b[0mcontext\u001b[0m\u001b[0;34m)\u001b[0m\u001b[0;34m:\u001b[0m\u001b[0;34m\u001b[0m\u001b[0;34m\u001b[0m\u001b[0m\n",
      "\u001b[0;31mTypeError\u001b[0m: expected string or bytes-like object"
     ]
    }
   ],
   "source": [
    "# stopwords (irrelavent words) gereksiz kelimeler\n",
    "import nltk\n",
    "nltk.download(\"stopwords\")\n",
    "nltk.download('punkt')\n",
    "nltk.download('wordnet')\n",
    "from nltk.corpus import stopwords\n",
    "\n",
    "#description = description.split()\n",
    "description = nltk.word_tokenize(description)\n"
   ]
  },
  {
   "cell_type": "code",
   "execution_count": 11,
   "id": "e467ac5a",
   "metadata": {},
   "outputs": [],
   "source": [
    "# gereksiz kelimeleri cikar\n",
    "description = [word for word in description if not word in set(stopwords.words(\"english\"))]"
   ]
  },
  {
   "cell_type": "code",
   "execution_count": 12,
   "id": "7f1353fd",
   "metadata": {},
   "outputs": [
    {
     "data": {
      "text/plain": [
       "['ricky',\n",
       " 'wilson',\n",
       " 'best',\n",
       " 'frontman',\n",
       " 'kaiser',\n",
       " 'chiefs',\n",
       " 'best',\n",
       " 'band',\n",
       " 'xxxx',\n",
       " 'thank',\n",
       " 'kaiser',\n",
       " 'chiefs',\n",
       " 'incredible',\n",
       " 'year',\n",
       " 'gigs',\n",
       " 'memories',\n",
       " 'cherish',\n",
       " 'always',\n",
       " 'xxxxxxx']"
      ]
     },
     "execution_count": 12,
     "metadata": {},
     "output_type": "execute_result"
    }
   ],
   "source": [
    "description"
   ]
  },
  {
   "cell_type": "code",
   "execution_count": 13,
   "id": "75428f37",
   "metadata": {},
   "outputs": [],
   "source": [
    "# lemmatization loved => love , gitmeyecegim => git\n",
    "import nltk as nlp\n",
    "lemma = nlp.WordNetLemmatizer()\n",
    "description = [lemma.lemmatize(word) for word in description]"
   ]
  },
  {
   "cell_type": "code",
   "execution_count": 15,
   "id": "f3f207cc",
   "metadata": {},
   "outputs": [],
   "source": [
    "description = \" \".join(description)"
   ]
  },
  {
   "cell_type": "code",
   "execution_count": 16,
   "id": "30f162a5",
   "metadata": {},
   "outputs": [
    {
     "data": {
      "text/plain": [
       "'ricky wilson best frontman kaiser chief best band xxxx thank kaiser chief incredible year gig memory cherish always xxxxxxx'"
      ]
     },
     "execution_count": 16,
     "metadata": {},
     "output_type": "execute_result"
    }
   ],
   "source": [
    "description"
   ]
  },
  {
   "cell_type": "code",
   "execution_count": 17,
   "id": "e2b41096",
   "metadata": {},
   "outputs": [],
   "source": [
    "# DATA CLEANING\n",
    "description_list = []\n",
    "\n",
    "for description in data.description:\n",
    "    description = re.sub(\"[^a-zA-Z]\",\" \",description)\n",
    "    description = description.lower()\n",
    "    description = nltk.word_tokenize(description)\n",
    "    description = [word for word in description if not word in set(stopwords.words(\"english\"))]\n",
    "    lemma = nlp.WordNetLemmatizer()\n",
    "    description = [lemma.lemmatize(word) for word in description]\n",
    "    description = \" \".join(description)\n",
    "    description_list.append(description)"
   ]
  },
  {
   "cell_type": "code",
   "execution_count": 33,
   "id": "192b1662",
   "metadata": {},
   "outputs": [],
   "source": [
    "# BAG OF WORDS\n",
    "from sklearn.feature_extraction.text import CountVectorizer # bag of words yaratmak icin kullanılan metod\n",
    "max_features = 5000\n",
    "\n",
    "count_vectorizer = CountVectorizer(max_features=max_features,stop_words=\"english\")\n",
    "sparce_matrix = count_vectorizer.fit_transform(description_list).toarray()"
   ]
  },
  {
   "cell_type": "code",
   "execution_count": 34,
   "id": "4d5c697f",
   "metadata": {},
   "outputs": [
    {
     "name": "stdout",
     "output_type": "stream",
     "text": [
      "en sık kullanılan 5000 kelimeler :  ['aa', 'aaron', 'ab', 'abacus', 'abc', 'ability', 'able', 'absolute', 'absolutely', 'absurdity', 'abuse', 'ac', 'academia', 'academic', 'academy', 'acc', 'accept', 'accepted', 'access', 'accessory', 'accident', 'account', 'accountant', 'accounting', 'ace', 'achieve', 'act', 'acting', 'action', 'active', 'activist', 'activity', 'actor', 'actress', 'actual', 'actually', 'ad', 'adalah', 'adam', 'add', 'added', 'addict', 'addicted', 'addiction', 'addition', 'address', 'admin', 'administrator', 'admirer', 'adopted', 'adoption', 'adorable', 'adore', 'adult', 'advance', 'advanced', 'advancing', 'advantage', 'adventure', 'adventurer', 'adventurous', 'advertising', 'advice', 'advise', 'adviser', 'advisor', 'advisory', 'advocacy', 'advocate', 'advocating', 'aerial', 'aerospace', 'aesthetic', 'af', 'afc', 'affair', 'affiliate', 'affiliated', 'affiliation', 'affordable', 'aficionado', 'afraid', 'africa', 'african', 'afrikaner', 'afro', 'afternoon', 'ag', 'age', 'agency', 'agender', 'agent', 'agile', 'ago', 'agree', 'agreement', 'agriculture', 'ah', 'ahead', 'ahs', 'ai', 'aim', 'aime', 'aiming', 'aint', 'air', 'airplane', 'aj', 'aka', 'akps', 'akun', 'al', 'alabama', 'alberta', 'album', 'alcohol', 'ale', 'alert', 'alex', 'alexis', 'alfie', 'algorithm', 'ali', 'alice', 'alien', 'alive', 'allah', 'allergic', 'alliance', 'ally', 'alot', 'alpha', 'alright', 'alt', 'alternatefinance', 'alternative', 'alum', 'alumna', 'alumnus', 'amateur', 'amazing', 'amazon', 'ambassador', 'ambition', 'ambitious', 'amendment', 'america', 'american', 'amex', 'amo', 'amor', 'amy', 'ana', 'analysis', 'analyst', 'analytics', 'anarchy', 'anchor', 'ander', 'anderson', 'andrew', 'android', 'andy', 'ang', 'angel', 'angeles', 'anger', 'angle', 'angry', 'animal', 'animation', 'animator', 'anime', 'ann', 'anna', 'anne', 'annoying', 'annual', 'anonymous', 'anoudablogger', 'answer', 'anthology', 'anthony', 'anti', 'anxiety', 'anybody', 'anymore', 'anyship', 'anytime', 'anyways', 'ap', 'apart', 'apologist', 'app', 'apparel', 'apparently', 'apple', 'application', 'appreciate', 'apps', 'aquarius', 'arab', 'archer', 'architect', 'architecture', 'area', 'ariana', 'aries', 'arizona', 'arkansas', 'army', 'arrow', 'arsenal', 'art', 'article', 'artisan', 'artist', 'artiste', 'artistic', 'artwork', 'asexual', 'ash', 'ashley', 'ashton', 'asia', 'asian', 'ask', 'asked', 'aspire', 'aspired', 'aspiring', 'assassin', 'asshole', 'assist', 'assistance', 'assistant', 'associate', 'association', 'asst', 'astrology', 'astronomer', 'astronomy', 'asu', 'asylum', 'ate', 'atheism', 'atheist', 'athlete', 'athletic', 'athletics', 'atl', 'atlanta', 'attempt', 'attention', 'attitude', 'attorney', 'attraction', 'au', 'auction', 'audience', 'audio', 'audit', 'august', 'austin', 'australia', 'australian', 'author', 'authority', 'autism', 'autistic', 'auto', 'automated', 'automatically', 'automotive', 'autotweet', 'av', 'ava', 'available', 'avatar', 'ave', 'avec', 'avenger', 'avenue', 'average', 'avi', 'aviation', 'avid', 'aw', 'awake', 'award', 'aware', 'awareness', 'away', 'awesome', 'awful', 'awkward', 'ax', 'az', 'ba', 'babe', 'baby', 'babygirl', 'background', 'bacon', 'bad', 'badass', 'badly', 'bae', 'bag', 'bake', 'baker', 'baking', 'balance', 'balanced', 'ball', 'ballabgarh', 'baltimore', 'bama', 'banana', 'bancorp', 'band', 'bang', 'bank', 'banker', 'banner', 'banter', 'baptist', 'bar', 'barack', 'barca', 'barcelona', 'bargain', 'barista', 'barry', 'barton', 'base', 'baseball', 'based', 'basic', 'basically', 'basis', 'basket', 'basketball', 'bass', 'bastard', 'bat', 'bath', 'batman', 'battle', 'battling', 'bay', 'bazooka', 'bb', 'bbc', 'bbm', 'bc', 'bd', 'bdsm', 'beach', 'bean', 'bear', 'beard', 'bearded', 'beast', 'beat', 'beating', 'beautiful', 'beauty', 'beck', 'bed', 'bee', 'beep', 'beer', 'begin', 'beginner', 'beginning', 'belfast', 'belieber', 'belief', 'believe', 'believer', 'believing', 'belle', 'belong', 'belt', 'benjamin', 'berita', 'berkshire', 'berlin', 'bernie', 'bespoke', 'best', 'bestseller', 'bestselling', 'bet', 'beta', 'better', 'betting', 'beverage', 'beware', 'beyonce', 'bf', 'bff', 'bh', 'bi', 'bias', 'bible', 'bibliophile', 'bicycle', 'bicycling', 'bieber', 'bien', 'big', 'bigdata', 'bigger', 'biggest', 'bike', 'biking', 'bikini', 'billiards', 'binge', 'bio', 'biology', 'bios', 'bipolar', 'bird', 'birmingham', 'birth', 'birthday', 'bisexual', 'bit', 'bitch', 'bitcoin', 'bite', 'bitter', 'biz', 'bk', 'black', 'blackberry', 'blackhawks', 'blacklivesmatter', 'blade', 'blah', 'blame', 'bleed', 'blend', 'bless', 'blessed', 'blessing', 'blind', 'block', 'blocked', 'blog', 'blogger', 'blogging', 'blonde', 'blood', 'blow', 'blue', 'bluelivesmatter', 'blunt', 'bo', 'board', 'boarding', 'boat', 'boca', 'body', 'bodybuilding', 'boise', 'bold', 'bond', 'bone', 'boo', 'book', 'bookie', 'booking', 'bookpromo', 'bookworm', 'boop', 'boot', 'booty', 'border', 'boricua', 'boring', 'born', 'bos', 'boston', 'bot', 'bother', 'bound', 'bourbon', 'bout', 'boutique', 'bow', 'bowl', 'box', 'boxer', 'boxing', 'boy', 'boyfriend', 'br', 'bra', 'brain', 'branch', 'brand', 'branded', 'branding', 'brandon', 'brat', 'brave', 'brazil', 'bread', 'break', 'breakfast', 'breaking', 'breast', 'breath', 'breathe', 'breathing', 'bred', 'breed', 'brew', 'brewer', 'brewing', 'brian', 'brick', 'bridge', 'brien', 'bright', 'brighter', 'brightest', 'brighton', 'brilliant', 'bring', 'bringing', 'brings', 'bristol', 'brit', 'britain', 'british', 'britney', 'bro', 'broadcast', 'broadcaster', 'broadcasting', 'broadway', 'broken', 'broker', 'bronco', 'brony', 'brook', 'brooke', 'brooklyn', 'bros', 'brother', 'brought', 'brown', 'brownie', 'bruce', 'bruh', 'bruin', 'bsc', 'bsu', 'bts', 'buckeye', 'buckle', 'budget', 'buff', 'buffalo', 'bug', 'build', 'builder', 'building', 'built', 'bull', 'bullshit', 'bully', 'bum', 'bunch', 'bunny', 'burger', 'burn', 'burning', 'bus', 'business', 'businesscoach', 'businessman', 'busy', 'butt', 'butter', 'butterfly', 'button', 'buy', 'buyer', 'buying', 'buzz', 'buzzfeed', 'bw', 'bye', 'ca', 'cab', 'cable', 'cafe', 'caffeine', 'cairo', 'caitlin', 'cake', 'cal', 'caleb', 'calendar', 'calgary', 'cali', 'california', 'called', 'calling', 'calm', 'calum', 'cam', 'cambridge', 'camden', 'came', 'camera', 'camgirl', 'camp', 'campaign', 'camping', 'campus', 'canada', 'canadian', 'cancer', 'candidate', 'candy', 'cane', 'cannabis', 'canuck', 'cap', 'cape', 'capital', 'capone', 'capricorn', 'captain', 'caption', 'car', 'caramel', 'card', 'cardiff', 'cardinal', 'care', 'career', 'careful', 'caregiver', 'caribbean', 'caring', 'carolina', 'caroline', 'carpet', 'carry', 'carrying', 'carter', 'cartoon', 'cartoonist', 'case', 'cash', 'cashflow', 'casino', 'cast', 'castle', 'casual', 'cat', 'catalyst', 'catch', 'category', 'cater', 'catering', 'catholic', 'caucus', 'cause', 'cavs', 'cbc', 'cbs', 'cc', 'ccc', 'cd', 'ce', 'celebrating', 'celebrity', 'celebs', 'celtic', 'cena', 'center', 'centered', 'central', 'centre', 'century', 'ceo', 'certain', 'certified', 'cfc', 'ch', 'chain', 'chair', 'challenge', 'challenging', 'champ', 'champagne', 'champion', 'championship', 'chan', 'chance', 'chanel', 'change', 'changed', 'changer', 'changing', 'channel', 'chaos', 'chapter', 'character', 'charge', 'charity', 'charleston', 'charlie', 'charming', 'chart', 'charter', 'chase', 'chasing', 'chat', 'chatting', 'chawla', 'cheap', 'check', 'checkout', 'cheeky', 'cheer', 'cheerleader', 'cheerleading', 'cheese', 'chef', 'chelsea', 'cheshire', 'chess', 'chi', 'chic', 'chicago', 'chick', 'chicken', 'chico', 'chief', 'child', 'childhood', 'chill', 'chillin', 'chilling', 'china', 'chinese', 'chip', 'chocolate', 'choice', 'choir', 'choose', 'choreographer', 'chris', 'christ', 'christian', 'christmas', 'christopher', 'chronic', 'chronicle', 'chs', 'church', 'ci', 'cia', 'cider', 'cigar', 'cinema', 'circle', 'citizen', 'citizenship', 'city', 'civic', 'civil', 'ck', 'cl', 'claim', 'clan', 'class', 'classic', 'classical', 'classified', 'classy', 'clean', 'cleaning', 'clear', 'cleveland', 'click', 'client', 'clifford', 'climate', 'clinic', 'clinical', 'clip', 'close', 'closed', 'closer', 'closet', 'clothes', 'clothing', 'cloud', 'club', 'clubned', 'clubnedcafe', 'cm', 'cnn', 'coach', 'coaching', 'coast', 'cod', 'code', 'coder', 'coffee', 'cogniteev', 'cohost', 'coin', 'coke', 'cold', 'cole', 'collaboration', 'collaborative', 'collect', 'collectible', 'collecting', 'collection', 'collective', 'collector', 'college', 'colombiana', 'colony', 'color', 'colorado', 'colour', 'colt', 'columbia', 'columnist', 'com', 'combat', 'combination', 'combined', 'combining', 'come', 'comeback', 'comedian', 'comedy', 'comfort', 'comic', 'comicbook', 'coming', 'comma', 'command', 'comment', 'commentary', 'commentator', 'commerce', 'commercial', 'commission', 'commitment', 'committed', 'committee', 'commodity', 'common', 'comms', 'communication', 'communicator', 'community', 'como', 'comp', 'company', 'compassion', 'competition', 'competitive', 'competitor', 'complain', 'complete', 'completely', 'complex', 'compliance', 'complicated', 'compliment', 'composer', 'comprehensive', 'computer', 'computing', 'concept', 'concern', 'concert', 'concierge', 'condition', 'conference', 'confessed', 'confident', 'confirmed', 'conflict', 'confused', 'connect', 'connected', 'connecting', 'connection', 'connector', 'connects', 'connoisseur', 'connor', 'conor', 'conscience', 'conscious', 'consciousness', 'conservation', 'conservative', 'consider', 'constant', 'constantly', 'constitution', 'constitutional', 'constitutionalist', 'construction', 'consultant', 'consulting', 'consumer', 'contact', 'contain', 'contemporary', 'content', 'contest', 'continue', 'continuous', 'contract', 'contracting', 'contributing', 'contribution', 'contributor', 'control', 'convention', 'conversation', 'cook', 'cookie', 'cooking', 'cooky', 'cool', 'coolest', 'cooperative', 'coordinator', 'cop', 'copy', 'copyright', 'copywriter', 'cor', 'coraz', 'corbyn', 'core', 'corgi', 'corinthian', 'corn', 'corner', 'cornwall', 'corp', 'corporate', 'corporation', 'correct', 'correspondent', 'corruption', 'cosmetic', 'cosplay', 'cosplayer', 'cost', 'costanza', 'costume', 'couch', 'council', 'councillor', 'count', 'counting', 'country', 'countryside', 'county', 'couple', 'coupon', 'courage', 'course', 'court', 'courtesy', 'cousin', 'coventry', 'cover', 'coverage', 'covered', 'covering', 'cowboy', 'cowboysnation', 'coz', 'cp', 'cpa', 'cr', 'crack', 'craft', 'crafter', 'crap', 'crash', 'crazy', 'cream', 'create', 'created', 'creates', 'creating', 'creation', 'creative', 'creativity', 'creator', 'creature', 'credit', 'creek', 'crew', 'cricket', 'crime', 'criminal', 'criminology', 'crimson', 'crisis', 'crisp', 'critic', 'critical', 'criticism', 'crm', 'crochet', 'cross', 'crossfit', 'crowd', 'crowdfunding', 'crowdsourcing', 'crown', 'cruel', 'cruelty', 'crush', 'crystalleddream', 'cs', 'csu', 'csulb', 'ct', 'cu', 'cub', 'cuisine', 'cultural', 'culture', 'cum', 'cup', 'cupcake', 'curated', 'curating', 'curator', 'curious', 'curly', 'curmudgeon', 'currency', 'current', 'currently', 'curry', 'curse', 'cursed', 'custom', 'customer', 'cut', 'cute', 'cutest', 'cutie', 'cuz', 'cxkuo', 'cyber', 'cybersecurity', 'cycle', 'cycling', 'cyclist', 'cynical', 'czech', 'da', 'dad', 'daddy', 'dai', 'daily', 'dairy', 'daisy', 'dakota', 'dale', 'dallas', 'damn', 'dan', 'dana', 'dance', 'dancehall', 'dancer', 'dancing', 'dangerous', 'daniel', 'danny', 'dare', 'dark', 'darkest', 'darkness', 'darling', 'dart', 'dash', 'dat', 'data', 'date', 'dating', 'datpiff', 'daughter', 'davenport', 'david', 'dawg', 'day', 'daycare', 'db', 'dc', 'dd', 'dead', 'deal', 'dealer', 'dean', 'dear', 'death', 'debate', 'debt', 'debut', 'dec', 'december', 'decide', 'decir', 'decision', 'decor', 'decorating', 'dedicated', 'deep', 'deeply', 'defend', 'defender', 'defense', 'define', 'definitely', 'definition', 'degree', 'del', 'delicious', 'delight', 'delightful', 'deliver', 'delivered', 'delivering', 'delivers', 'delivery', 'della', 'deloitte', 'delta', 'demand', 'dementia', 'demi', 'demo', 'democracy', 'democrat', 'democratic', 'demon', 'dennis', 'dental', 'denver', 'department', 'depression', 'dept', 'depth', 'deputy', 'der', 'derby', 'derp', 'description', 'descriptive', 'desde', 'desert', 'deserve', 'design', 'designed', 'designer', 'designing', 'desire', 'despair', 'desperate', 'despite', 'destination', 'destined', 'destiny', 'destroy', 'destroyed', 'destroying', 'destruction', 'detailed', 'detective', 'determined', 'detroit', 'dev', 'develop', 'developer', 'developing', 'development', 'device', 'devil', 'devon', 'devops', 'devoted', 'devotee', 'di', 'diabetes', 'diamond', 'diary', 'dice', 'dick', 'didnt', 'die', 'died', 'diego', 'diehard', 'diet', 'difference', 'different', 'dig', 'digital', 'dignity', 'dimension', 'dining', 'dinner', 'dios', 'direct', 'direction', 'directioner', 'directly', 'director', 'dirt', 'dirty', 'dis', 'disability', 'disabled', 'disaster', 'disciple', 'disclaimer', 'discount', 'discover', 'discovery', 'discus', 'discussion', 'disease', 'disgusting', 'dislike', 'disney', 'disorder', 'distance', 'distributor', 'district', 'diva', 'diversity', 'dividend', 'division', 'divorce', 'diy', 'dj', 'dk', 'dl', 'dm', 'dnt', 'docidohq', 'doctor', 'documentary', 'dodger', 'doer', 'doesnt', 'dog', 'dogging', 'doixkn', 'doll', 'dollar', 'dolphin', 'dom', 'domain', 'domestic', 'domino', 'donald', 'dont', 'donut', 'doodle', 'doodler', 'door', 'dope', 'dork', 'dornan', 'dorset', 'dose', 'dot', 'double', 'doubt', 'download', 'downloads', 'downtown', 'dp', 'dr', 'draft', 'drag', 'dragon', 'drake', 'drama', 'draw', 'drawing', 'dream', 'dreamer', 'dreaming', 'dress', 'dressed', 'drew', 'drink', 'drinker', 'drinking', 'drive', 'driven', 'driver', 'driving', 'drop', 'drug', 'drum', 'drummer', 'drunk', 'du', 'dub', 'dublin', 'duck', 'dude', 'duh', 'duke', 'dumb', 'dummy', 'duo', 'dust', 'dutch', 'duty', 'dwarf', 'dweller', 'dy', 'dying', 'dylan', 'dynamic', 'ea', 'eagle', 'ear', 'early', 'earn', 'earth', 'easier', 'easily', 'east', 'eastern', 'easy', 'eat', 'eater', 'eatin', 'eating', 'eatingndastreets', 'ebay', 'ebooks', 'ec', 'eccentric', 'eclectic', 'ecn', 'eco', 'ecologist', 'ecology', 'ecommerce', 'economic', 'economics', 'economist', 'economy', 'ecu', 'ed', 'edge', 'edinburgh', 'edited', 'editing', 'edition', 'editor', 'editorial', 'edm', 'educated', 'educating', 'education', 'educational', 'educator', 'ef', 'effect', 'effective', 'egg', 'ego', 'egypt', 'eh', 'ein', 'el', 'ela', 'election', 'electric', 'electronic', 'electronics', 'elite', 'elle', 'elvis', 'em', 'email', 'emergency', 'emerging', 'emily', 'eminem', 'emma', 'emmerdale', 'emmy', 'emo', 'emoji', 'emotion', 'emotional', 'emperor', 'empire', 'employed', 'employee', 'employer', 'employment', 'empower', 'empowered', 'empowering', 'en', 'encourage', 'end', 'ender', 'ending', 'endless', 'endorse', 'endorsement', 'enemy', 'energy', 'eng', 'engage', 'engaged', 'engagement', 'engaging', 'engineer', 'engineering', 'england', 'english', 'enhance', 'enjoy', 'enjoying', 'enjoys', 'enlightenment', 'enquiry', 'enrich', 'enrique', 'ent', 'enter', 'enterprise', 'entertain', 'entertainer', 'entertaining', 'entertainment', 'enthusiast', 'enthusiastic', 'entire', 'entirely', 'entrepreneur', 'entrepreneurship', 'environment', 'environmental', 'ep', 'epic', 'equal', 'equality', 'equipment', 'er', 'era', 'eres', 'eric', 'erin', 'erotic', 'escape', 'escort', 'esp', 'espa', 'especially', 'espn', 'esports', 'esquimau', 'essence', 'essential', 'est', 'established', 'estate', 'esteem', 'estoy', 'et', 'eternal', 'eternally', 'eternity', 'eterno', 'etf', 'etsy', 'eu', 'euro', 'europe', 'european', 'evangelist', 'eve', 'event', 'eventually', 'everton', 'everybody', 'everyday', 'evil', 'evolution', 'ex', 'example', 'excellence', 'excellent', 'excited', 'exciting', 'exclusive', 'excuse', 'exec', 'executive', 'exercise', 'exile', 'exist', 'existence', 'existing', 'exo', 'expanded', 'expat', 'expect', 'expectation', 'expensive', 'experience', 'experienced', 'experiment', 'experimental', 'expert', 'expertise', 'explain', 'explore', 'explorer', 'exploring', 'exposure', 'express', 'expressed', 'expression', 'expy', 'extension', 'extra', 'extraordinaire', 'extraordinary', 'extreme', 'extremely', 'extrovert', 'ey', 'eye', 'eyp', 'ez', 'fa', 'fab', 'fabulous', 'face', 'facebook', 'facial', 'facilitator', 'facility', 'fact', 'faculty', 'fail', 'failed', 'failure', 'fair', 'fairy', 'faith', 'faithful', 'fake', 'falcon', 'fall', 'fam', 'familia', 'family', 'famous', 'fan', 'fanatic', 'fanboy', 'fancy', 'fandom', 'fanfic', 'fangirl', 'fantastic', 'fantasy', 'far', 'faridabad', 'farm', 'farmer', 'fashion', 'fast', 'faster', 'fastest', 'fat', 'fate', 'father', 'fav', 'fave', 'faved', 'faves', 'favor', 'favorite', 'favorited', 'favourite', 'favs', 'fb', 'fc', 'fe', 'fear', 'fearing', 'fearless', 'feature', 'featured', 'featuring', 'fed', 'federal', 'feed', 'feel', 'feeling', 'feelthebern', 'fell', 'fellow', 'fellowship', 'felt', 'female', 'feminism', 'feminist', 'festival', 'fetish', 'ff', 'fg', 'fgc', 'fi', 'fianc', 'fiance', 'fiat', 'fiction', 'fictional', 'field', 'fierce', 'fifa', 'fifth', 'fight', 'fighter', 'fighting', 'figure', 'file', 'filled', 'film', 'filming', 'filmmaker', 'filter', 'filthy', 'final', 'finalist', 'finance', 'financial', 'financially', 'finanz', 'finder', 'finding', 'fine', 'finest', 'finger', 'finish', 'firework', 'firm', 'fiscal', 'fish', 'fishing', 'fit', 'fitness', 'fix', 'fl', 'flag', 'flame', 'flash', 'flavor', 'flesh', 'flexibility', 'flickr', 'flight', 'flip', 'flirt', 'floor', 'florida', 'flow', 'flower', 'fly', 'flyer', 'flying', 'fm', 'fn', 'focus', 'focused', 'focusing', 'folk', 'follow', 'followback', 'followed', 'follower', 'following', 'follows', 'fond', 'food', 'foodie', 'fool', 'foolish', 'foot', 'football', 'footballer', 'forbes', 'force', 'ford', 'forecast', 'foreign', 'forest', 'forever', 'forex', 'forget', 'forgive', 'forgot', 'form', 'fort', 'fortune', 'forum', 'forward', 'foster', 'fostering', 'foundation', 'founded', 'founder', 'founding', 'fourth', 'fox', 'foxy', 'fr', 'frame', 'france', 'francisco', 'francoisgoube', 'frank', 'franklin', 'freak', 'free', 'freebie', 'freedom', 'freelance', 'freelancer', 'freepalestine', 'french', 'frente', 'frequent', 'fresh', 'freshman', 'fri', 'friday', 'fried', 'friend', 'friendly', 'friendship', 'frog', 'fruit', 'frustrated', 'fsu', 'ft', 'ftw', 'fuck', 'fucked', 'fucking', 'fuel', 'fulfill', 'fullest', 'fully', 'fun', 'fund', 'funding', 'funk', 'funnier', 'funny', 'fur', 'furry', 'future', 'fuzzy', 'ga', 'gabriel', 'gadget', 'gaga', 'gain', 'gal', 'galaxy', 'gallery', 'gambling', 'game', 'gamedev', 'gameofthrones', 'gamer', 'gamergate', 'gamers', 'gamertag', 'gaming', 'gang', 'gangsta', 'gangster', 'garbage', 'garden', 'gardener', 'gardening', 'gary', 'gate', 'gator', 'gave', 'gay', 'gaza', 'gc', 'ge', 'gear', 'gee', 'geek', 'geekery', 'geeklegacy', 'geeky', 'gemini', 'gen', 'gender', 'genderfluid', 'general', 'generally', 'generated', 'generation', 'genius', 'genre', 'gente', 'gentleman', 'geo', 'geography', 'geordie', 'george', 'georgia', 'ger', 'german', 'germany', 'gettin', 'getting', 'gf', 'gfx', 'ghost', 'giant', 'gif', 'gift', 'gifted', 'gig', 'gigicaponepr', 'gil', 'gin', 'ginger', 'girl', 'girlfriend', 'girlslikeus', 'gist', 'giveaway', 'given', 'giving', 'glad', 'glam', 'glamour', 'glasgow', 'glass', 'glee', 'glitter', 'global', 'globally', 'globe', 'globetrotter', 'glorious', 'glory', 'gluten', 'gmail', 'goal', 'goat', 'god', 'goddess', 'godfirst', 'godhelpamerica', 'going', 'gold', 'golden', 'golf', 'golfer', 'gomez', 'gon', 'gone', 'good', 'goodness', 'goofy', 'google', 'gooner', 'gordon', 'gore', 'gorgeous', 'gospel', 'gossip', 'got', 'gotham', 'goto', 'gourmet', 'government', 'governor', 'govt', 'gp', 'gr', 'grab', 'grace', 'grad', 'grade', 'graduate', 'gran', 'grand', 'grande', 'grandfather', 'grandma', 'grandmother', 'grandpa', 'granny', 'grant', 'graphic', 'grateful', 'gratis', 'grave', 'gravity', 'gray', 'great', 'greater', 'greatest', 'greatness', 'greek', 'green', 'grew', 'grey', 'grfoxfjwpv', 'grind', 'grizzly', 'ground', 'group', 'grow', 'growing', 'grown', 'growth', 'grumpy', 'gsu', 'gt', 'gta', 'guaranteed', 'guard', 'guardian', 'gucci', 'guess', 'guest', 'guide', 'guided', 'guild', 'guitar', 'guitarist', 'gulf', 'gun', 'gunner', 'guru', 'gusta', 'gutter', 'guy', 'gym', 'gymnastics', 'ha', 'habit', 'hack', 'hacker', 'hai', 'hail', 'hair', 'haired', 'half', 'hall', 'halloween', 'halo', 'halsey', 'ham', 'hand', 'handle', 'handmade', 'handsome', 'hang', 'hanging', 'happen', 'happening', 'happens', 'happier', 'happiest', 'happily', 'happiness', 'happy', 'har', 'hard', 'hardcore', 'hardware', 'harm', 'harry', 'harvard', 'hashtag', 'hasta', 'hat', 'hate', 'hated', 'hater', 'hathaway', 'hawaii', 'hay', 'hd', 'head', 'header', 'headline', 'heal', 'healer', 'healing', 'health', 'healthcare', 'healthy', 'hear', 'heard', 'heart', 'hearted', 'heat', 'heather', 'heaven', 'heavy', 'heel', 'held', 'helen', 'hell', 'hello', 'help', 'helped', 'helping', 'henry', 'herald', 'herb', 'heritage', 'hero', 'hey', 'hi', 'hiatus', 'high', 'higher', 'highly', 'hiker', 'hiking', 'hilarious', 'hill', 'hint', 'hip', 'hiphop', 'hippie', 'hipster', 'hire', 'historian', 'historic', 'historical', 'history', 'hit', 'hj', 'hoarder', 'hobby', 'hockey', 'hoe', 'hold', 'holder', 'holding', 'hole', 'holiday', 'holistic', 'holland', 'hollyoaks', 'hollywood', 'holocaust', 'holy', 'home', 'homeschool', 'hometown', 'homie', 'honest', 'honey', 'honor', 'honorary', 'hood', 'hop', 'hope', 'hopeful', 'hopefully', 'hopeless', 'hoping', 'hopkins', 'horan', 'horizon', 'horny', 'horror', 'horse', 'hospital', 'hospitality', 'host', 'hosted', 'hosting', 'hot', 'hotel', 'hotmail', 'hotnewhiphop', 'hotspur', 'hottest', 'hour', 'house', 'housewife', 'housing', 'houston', 'howard', 'hq', 'hr', 'htgawm', 'html', 'http', 'htx', 'hub', 'hufflepuff', 'hug', 'huge', 'hugger', 'human', 'humanist', 'humanitarian', 'humanity', 'humanrights', 'humble', 'humor', 'humour', 'hunger', 'hungry', 'hunt', 'hunter', 'hunting', 'hurricane', 'hurt', 'husband', 'hustle', 'hustler', 'hv', 'hw', 'hybrid', 'hypocrite', 'ia', 'iam', 'ibm', 'ic', 'ice', 'iced', 'icon', 'id', 'idea', 'ideal', 'idealist', 'identity', 'idiot', 'idol', 'ig', 'ii', 'iii', 'il', 'ill', 'illegal', 'illinois', 'illness', 'illustration', 'illustrator', 'ily', 'im', 'image', 'imaginable', 'imagination', 'imagine', 'impact', 'imperfection', 'important', 'importantly', 'impossible', 'impress', 'improve', 'improvement', 'improving', 'inch', 'include', 'including', 'income', 'increase', 'incredible', 'independent', 'india', 'indian', 'indiana', 'indianapolis', 'indie', 'individual', 'indonesia', 'indoor', 'industrial', 'industry', 'inequality', 'infinite', 'infinity', 'infj', 'influence', 'influencer', 'influential', 'info', 'inform', 'information', 'informative', 'informed', 'infosec', 'infp', 'infrastructure', 'ing', 'initiative', 'injustice', 'inner', 'innovation', 'innovative', 'innovator', 'inquires', 'inquiry', 'insane', 'insanity', 'insert', 'inside', 'insider', 'insight', 'insightful', 'insomniac', 'inspiration', 'inspirational', 'inspire', 'inspired', 'inspiring', 'insta', 'instagram', 'instant', 'instead', 'institute', 'institution', 'instructor', 'insurance', 'int', 'integrity', 'intel', 'intellectual', 'intelligence', 'intelligent', 'intention', 'interact', 'interactive', 'interested', 'interesting', 'interior', 'intern', 'international', 'internet', 'intersectional', 'interview', 'interviewer', 'intimate', 'intj', 'intl', 'intp', 'introvert', 'intuitive', 'invention', 'inventor', 'invest', 'investigation', 'investigator', 'investing', 'investment', 'investor', 'invisible', 'invite', 'involved', 'io', 'iot', 'iowa', 'ip', 'iphone', 'iran', 'iraqi', 'ireland', 'iris', 'irish', 'irl', 'isaac', 'isaiah', 'isfp', 'ish', 'islam', 'island', 'isle', 'isnt', 'israel', 'issue', 'isu', 'isupk', 'italian', 'italy', 'item', 'itunes', 'iv', 'ive', 'jack', 'jackson', 'jai', 'jake', 'jamaican', 'james', 'jamie', 'jan', 'jane', 'janoskians', 'japan', 'japanese', 'jay', 'jaz', 'jazz', 'jb', 'jd', 'jdsupra', 'je', 'jean', 'jedi', 'jeremiah', 'jersey', 'jessica', 'jesus', 'jet', 'jetlife', 'jew', 'jewellery', 'jewelry', 'jewish', 'jim', 'jj', 'jm', 'jo', 'job', 'joe', 'john', 'johnny', 'johnson', 'join', 'joined', 'jojo', 'joke', 'joker', 'jon', 'jones', 'jongdae', 'jordan', 'joseph', 'josh', 'joshua', 'journal', 'journalism', 'journalist', 'journey', 'journo', 'joy', 'joyful', 'jr', 'ju', 'judge', 'juice', 'july', 'jumpman', 'june', 'jungle', 'junior', 'junk', 'junkie', 'justice', 'justin', 'justinbieber', 'kamu', 'kansa', 'kanye', 'kath', 'kathniel', 'katy', 'kay', 'kayla', 'kc', 'kcco', 'ke', 'keen', 'keeper', 'keeping', 'kelly', 'ken', 'kent', 'kentucky', 'kenya', 'kenyan', 'kevin', 'key', 'khalifa', 'ki', 'kick', 'kid', 'kik', 'kill', 'killer', 'killjoy', 'kim', 'kind', 'kinda', 'kindle', 'kindness', 'king', 'kingdom', 'kink', 'kiss', 'kit', 'kitchen', 'kitten', 'kitty', 'knee', 'knew', 'knicks', 'knife', 'knight', 'knitter', 'knitting', 'knock', 'know', 'knowing', 'knowledge', 'known', 'ko', 'kool', 'korea', 'kpmg', 'kpop', 'kr', 'krsk', 'ksigbvg', 'ksu', 'ku', 'ky', 'la', 'lab', 'label', 'labor', 'laboratory', 'labour', 'lack', 'lacrosse', 'lad', 'lady', 'lake', 'lakers', 'lamb', 'lame', 'lan', 'land', 'lane', 'language', 'large', 'largest', 'larry', 'laser', 'lass', 'late', 'later', 'latest', 'latin', 'latina', 'latte', 'laugh', 'laughing', 'laughter', 'lauren', 'law', 'lawyer', 'lay', 'layout', 'lazy', 'lb', 'le', 'lead', 'leader', 'leadership', 'leading', 'leaf', 'league', 'lean', 'leaning', 'learn', 'learned', 'learner', 'learning', 'leave', 'lebanese', 'lecturer', 'lee', 'leeds', 'left', 'lefty', 'leg', 'legacy', 'legal', 'legend', 'legendary', 'legit', 'leisure', 'lemon', 'lemonade', 'lens', 'leo', 'lesbian', 'lesson', 'let', 'letter', 'letting', 'level', 'lewd', 'lfc', 'lgbt', 'lgbtq', 'li', 'liam', 'liberal', 'libertarian', 'liberty', 'libra', 'librarian', 'library', 'licensed', 'lie', 'life', 'lifecoach', 'lifelong', 'lifestyle', 'lifetime', 'lift', 'light', 'lighting', 'like', 'likely', 'lil', 'limit', 'limited', 'limitless', 'lincoln', 'linda', 'line', 'lingerie', 'link', 'linked', 'linkedin', 'linux', 'lion', 'lip', 'lipstick', 'liquor', 'lisa', 'list', 'listed', 'listen', 'listener', 'listening', 'listing', 'lit', 'literally', 'literary', 'literature', 'little', 'littlenialler', 'live', 'lived', 'liver', 'liverpool', 'livin', 'living', 'liza', 'lizard', 'lizquen', 'llb', 'llc', 'llp', 'lm', 'lmao', 'lo', 'load', 'loading', 'loan', 'local', 'locally', 'located', 'location', 'locked', 'logic', 'logo', 'lol', 'loml', 'london', 'lone', 'lonely', 'long', 'longer', 'longest', 'look', 'lookin', 'looking', 'loop', 'loose', 'lord', 'los', 'lose', 'loser', 'losing', 'loss', 'lost', 'lot', 'loud', 'louis', 'louisandharry', 'louisiana', 'louisville', 'lounge', 'love', 'loved', 'lovely', 'lover', 'lovin', 'loving', 'low', 'lower', 'loyal', 'loyalty', 'lp', 'lsu', 'luck', 'lucky', 'lufc', 'luke', 'lunch', 'luv', 'luxury', 'lv', 'lynn', 'lyric', 'lyrical', 'lyricist', 'ma', 'mac', 'machine', 'mad', 'madison', 'madness', 'madrid', 'mafia', 'mag', 'magazine', 'magic', 'magical', 'mai', 'mail', 'main', 'maine', 'mainly', 'maintenance', 'major', 'make', 'makeamericagreatagain', 'maker', 'makeup', 'making', 'malaysia', 'male', 'malik', 'mall', 'mama', 'man', 'manage', 'managed', 'management', 'manager', 'managing', 'manchester', 'manga', 'maniac', 'mantra', 'manufacturer', 'manufacturing', 'manutd', 'map', 'mapping', 'mar', 'marathon', 'marie', 'marijuana', 'marine', 'mark', 'market', 'marketer', 'marketing', 'marketplace', 'marriage', 'married', 'martial', 'martin', 'marvel', 'marvelous', 'mary', 'maryland', 'mason', 'mass', 'massage', 'massive', 'massroots', 'master', 'mastering', 'match', 'matching', 'mate', 'maternity', 'math', 'mathematics', 'matt', 'matter', 'matthew', 'mature', 'mau', 'maven', 'max', 'maybe', 'mayor', 'mba', 'mc', 'mcdonald', 'mcfc', 'md', 'meal', 'mean', 'meaning', 'meant', 'meat', 'med', 'medical', 'medicine', 'meditation', 'medium', 'meet', 'meeting', 'megan', 'meghan', 'meh', 'mel', 'melt', 'member', 'membership', 'meme', 'memory', 'memphis', 'men', 'mendes', 'mental', 'mentally', 'mention', 'mentioned', 'mentor', 'merchant', 'mermaid', 'merseyside', 'mess', 'message', 'mesztesn', 'met', 'metal', 'metalhead', 'meteorologist', 'method', 'metro', 'mets', 'mexican', 'mexico', 'mfc', 'mg', 'mgc', 'mgmt', 'mi', 'mia', 'miami', 'mic', 'michael', 'michelle', 'michigan', 'microsoft', 'mid', 'middle', 'midland', 'midnight', 'midwest', 'midwife', 'miei', 'mighty', 'mii', 'mijn', 'mike', 'mile', 'miley', 'militant', 'military', 'milk', 'miller', 'million', 'millionaire', 'milwaukee', 'mimi', 'min', 'minaj', 'mind', 'minded', 'mindset', 'minecraft', 'mini', 'mining', 'minister', 'ministry', 'minnesota', 'minor', 'minute', 'miracle', 'mirror', 'miss', 'missed', 'missing', 'mission', 'missionary', 'mississippi', 'missouri', 'mistake', 'mit', 'mitch', 'mix', 'mixed', 'mixer', 'mixtape', 'mixtapes', 'mizzou', 'ml', 'mlb', 'mma', 'mmxv', 'mobile', 'mod', 'mode', 'model', 'moderator', 'modern', 'mom', 'moment', 'momma', 'mommy', 'mon', 'monday', 'money', 'monitor', 'monitored', 'monitoring', 'monkey', 'monroe', 'monster', 'month', 'monthly', 'montreal', 'mood', 'moon', 'morgan', 'mormon', 'morning', 'mortgage', 'mother', 'motherhood', 'motion', 'motivated', 'motivation', 'motivational', 'motivator', 'moto', 'motor', 'motorbike', 'motorcycle', 'motto', 'mountain', 'mouse', 'mouth', 'moved', 'movement', 'movie', 'moving', 'mp', 'mq', 'mr', 'msg', 'msu', 'mt', 'mtv', 'mu', 'mua', 'mufc', 'mufcu', 'multi', 'multicultural', 'multilingual', 'multimedia', 'multiple', 'multiplication', 'multiverse', 'mum', 'mummy', 'munchkin', 'mundo', 'murder', 'murray', 'muscle', 'muse', 'museum', 'mushroom', 'music', 'musical', 'musician', 'musik', 'musing', 'muslim', 'mut', 'mutant', 'mv', 'mvp', 'mx', 'myallies', 'mysterious', 'mystery', 'na', 'nada', 'nadal', 'nah', 'nail', 'naked', 'named', 'nana', 'nap', 'nascar', 'nashville', 'nat', 'nation', 'national', 'nationwide', 'native', 'natural', 'nature', 'navy', 'nb', 'nba', 'nbsp', 'nc', 'ncaa', 'ncat', 'nd', 'ne', 'near', 'necessarily', 'necessary', 'neck', 'need', 'needed', 'negative', 'neighborhood', 'neon', 'nerd', 'nerdy', 'net', 'netflix', 'netherlands', 'network', 'networker', 'networking', 'neutral', 'new', 'newborn', 'newcastle', 'newest', 'newly', 'news', 'newsdesk', 'newsletter', 'newspaper', 'nfl', 'nh', 'nhl', 'nhra', 'ni', 'niall', 'nialler', 'niallofficial', 'nice', 'niche', 'nicholas', 'nicki', 'nickname', 'nico', 'nicolamarketing', 'nie', 'nigeria', 'nigerian', 'nigga', 'night', 'nightclub', 'nightmare', 'nikki', 'nikon', 'nineteen', 'ninja', 'nintendo', 'nj', 'nl', 'nm', 'noah', 'noble', 'noh', 'noir', 'noise', 'nola', 'nominated', 'nominee', 'non', 'nonprofit', 'nonsense', 'normal', 'north', 'northern', 'northwest', 'norwich', 'nose', 'note', 'nothin', 'notice', 'noticed', 'notorious', 'nottingham', 'nov', 'novel', 'novelist', 'november', 'novice', 'nq', 'nra', 'nsfw', 'nt', 'nuclear', 'nude', 'number', 'nurse', 'nursing', 'nut', 'nutrition', 'nutritionist', 'nw', 'ny', 'nyc', 'nyg', 'nyse', 'nyu', 'nz', 'oak', 'oakland', 'obama', 'obamasucks', 'object', 'obsessed', 'obsession', 'obsessive', 'obsessor', 'obviously', 'oc', 'occasion', 'occasional', 'occasionally', 'ocean', 'oct', 'october', 'od', 'odd', 'offended', 'offer', 'offering', 'office', 'officer', 'official', 'officially', 'oficial', 'og', 'oh', 'ohio', 'oil', 'oj', 'ok', 'okay', 'oklahoma', 'ol', 'old', 'older', 'ole', 'olive', 'oliver', 'olivia', 'olympic', 'om', 'oncrawl', 'onedirection', 'online', 'ontario', 'oo', 'op', 'open', 'opening', 'openrp', 'opera', 'operate', 'operated', 'operation', 'operator', 'opinion', 'opinionated', 'opm', 'opportunity', 'oprah', 'ops', 'optimist', 'optimistic', 'optimize', 'option', 'oracle', 'orange', 'order', 'ordinary', 'oregon', 'org', 'organ', 'organic', 'organisation', 'organization', 'organizer', 'original', 'originally', 'orlando', 'orleans', 'osu', 'ot', 'otaku', 'otc', 'otp', 'otra', 'ottawa', 'ou', 'ouat', 'outcome', 'outdoor', 'outdoors', 'outlet', 'outlook', 'outside', 'outta', 'ov', 'overall', 'overcome', 'owe', 'owen', 'owl', 'owned', 'owner', 'owns', 'oxford', 'oximity', 'pa', 'pacer', 'pacific', 'pack', 'package', 'packaging', 'packer', 'page', 'paid', 'pain', 'paine', 'paint', 'painter', 'painting', 'pair', 'pakistan', 'pakistani', 'pal', 'pale', 'paleo', 'palestine', 'palestinian', 'palm', 'pan', 'panda', 'pansexual', 'pant', 'panther', 'papa', 'paper', 'paperback', 'paphitis', 'para', 'paradise', 'paranormal', 'parent', 'parenting', 'paris', 'park', 'parking', 'parody', 'participant', 'partner', 'partnered', 'partnership', 'party', 'pas', 'passion', 'passionate', 'past', 'pasta', 'pastor', 'pat', 'path', 'patience', 'patient', 'patrick', 'patriot', 'patriotic', 'patron', 'patsnation', 'paul', 'pay', 'paying', 'payment', 'payne', 'pc', 'pdt', 'peace', 'peaceful', 'peach', 'peanut', 'pearl', 'peer', 'pen', 'penchant', 'penguin', 'penn', 'pennsylvania', 'penny', 'people', 'perfect', 'perfection', 'performance', 'performer', 'performing', 'periscope', 'permanent', 'pero', 'perry', 'person', 'persona', 'personal', 'personality', 'personally', 'perspective', 'pet', 'peter', 'petition', 'petty', 'pewdiepie', 'pf', 'ph', 'phan', 'phd', 'phil', 'philadelphia', 'philippian', 'philippine', 'philly', 'philosopher', 'philosophy', 'phoenix', 'phone', 'photo', 'photografy', 'photograph', 'photographer', 'photography', 'php', 'phrase', 'physic', 'physical', 'physician', 'physio', 'pianist', 'piano', 'pic', 'pick', 'picture', 'piece', 'pilate', 'pilot', 'pin', 'pink', 'pioneer', 'pirate', 'piss', 'pittsburgh', 'pixel', 'piza', 'pizza', 'place', 'plan', 'plane', 'planet', 'planner', 'planning', 'plant', 'platform', 'play', 'playboy', 'played', 'player', 'playful', 'playing', 'playlist', 'playstation', 'pleasure', 'pls', 'plus', 'plz', 'pm', 'pnw', 'pocket', 'podcast', 'podcaster', 'podcasting', 'podcasts', 'poem', 'poet', 'poetry', 'point', 'pointless', 'pok', 'pokemon', 'poker', 'pole', 'police', 'policy', 'polish', 'polite', 'political', 'politically', 'politician', 'politics', 'polo', 'poly', 'pony', 'pool', 'poor', 'pop', 'popculture', 'popping', 'popular', 'por', 'porn', 'porno', 'pornographic', 'pornstar', 'portal', 'portfolio', 'portland', 'portrait', 'portugal', 'portuguese', 'posh', 'positive', 'positivity', 'possibility', 'possible', 'possibly', 'post', 'postcard', 'posted', 'poster', 'posting', 'potato', 'potential', 'potter', 'potterhead', 'potty', 'poverty', 'power', 'powered', 'powerful', 'ppc', 'ppl', 'pr', 'pra', 'practical', 'practice', 'practitioner', 'praise', 'pray', 'pre', 'precious', 'predictive', 'prefer', 'premier', 'premiere', 'premium', 'prep', 'prepare', 'pres', 'presence', 'present', 'presenter', 'preserve', 'president', 'press', 'pretend', 'pretty', 'prevent', 'prevention', 'previously', 'price', 'pride', 'prince', 'princess', 'principal', 'print', 'printable', 'printing', 'priority', 'prisoner', 'privacy', 'private', 'pro', 'probably', 'problem', 'process', 'proclaimed', 'procrastinator', 'produce', 'produced', 'producer', 'product', 'production', 'prof', 'profession', 'professional', 'professionally', 'professor', 'profile', 'profit', 'program', 'programme', 'programmer', 'programming', 'progress', 'progressive', 'project', 'prolife', 'promise', 'promo', 'promote', 'promoter', 'promotes', 'promoting', 'promotion', 'prone', 'pronoun', 'pronounced', 'prop', 'propaganda', 'property', 'prophet', 'prospect', 'prosperity', 'protect', 'protecting', 'protection', 'protector', 'proud', 'proudly', 'prove', 'proven', 'proverb', 'provide', 'provided', 'provider', 'provides', 'providing', 'psalm', 'psn', 'psych', 'psychic', 'psychologist', 'psychology', 'pt', 'ptsd', 'pub', 'public', 'publication', 'publicist', 'publicity', 'publicrelations', 'publish', 'published', 'publisher', 'publishing', 'puerto', 'pug', 'pumpkin', 'pun', 'punch', 'punctuation', 'pundit', 'punk', 'pup', 'puppy', 'purchase', 'pure', 'purple', 'purpose', 'pursue', 'pursuing', 'pursuit', 'purveyor', 'push', 'pushed', 'pusher', 'pussy', 'putting', 'pvtstk', 'pw', 'qa', 'qpr', 'qu', 'quad', 'qualified', 'quality', 'quarter', 'que', 'queen', 'queer', 'quen', 'quest', 'question', 'queue', 'qui', 'quiero', 'quiet', 'quit', 'quite', 'quiz', 'quote', 'rabbit', 'raccoon', 'race', 'racing', 'racist', 'rad', 'radio', 'rafa', 'raider', 'rail', 'rain', 'rainbow', 'raise', 'raised', 'raising', 'raleigh', 'ram', 'ramblings', 'ran', 'random', 'randomness', 'range', 'ranger', 'ranked', 'rant', 'rap', 'rapper', 'rare', 'rarely', 'rat', 'rate', 'raven', 'raw', 'ray', 'rc', 'rd', 'reach', 'reaching', 'read', 'reader', 'reading', 'ready', 'real', 'reality', 'realize', 'really', 'realtor', 'rear', 'reason', 'rebecca', 'rebel', 'recap', 'receive', 'recently', 'recipe', 'recognized', 'recommend', 'record', 'recording', 'recovering', 'recovery', 'recreation', 'recruiting', 'red', 'reddit', 'redskin', 'redsox', 'reference', 'reflect', 'reflective', 'reform', 'refuse', 'regarding', 'reggae', 'region', 'regional', 'register', 'regret', 'regular', 'reiki', 'related', 'relating', 'relation', 'relationship', 'relax', 'release', 'relevant', 'reliable', 'religion', 'religious', 'remain', 'remarkable', 'remember', 'reminder', 'remix', 'renaissance', 'rendez', 'rendezvous', 'rental', 'rep', 'repair', 'repeat', 'reply', 'replyed', 'report', 'reporter', 'reporting', 'represent', 'representing', 'republic', 'republican', 'request', 'rescue', 'research', 'researcher', 'resident', 'residential', 'resist', 'resort', 'resource', 'respect', 'respectful', 'respond', 'response', 'responsibility', 'responsible', 'rest', 'restaurant', 'result', 'retail', 'retailer', 'retired', 'retirement', 'retro', 'return', 'retweet', 'retweeted', 'retweeting', 'retweets', 'revenge', 'revenue', 'reverbnation', 'review', 'reviewer', 'revival', 'revolution', 'revolutionary', 'reward', 'rey', 'rhino', 'rhyme', 'ri', 'rican', 'rich', 'richard', 'ricky', 'ride', 'rider', 'ridge', 'ridiculous', 'riding', 'right', 'rihanna', 'ring', 'rio', 'riot', 'rip', 'rise', 'risk', 'rita', 'rite', 'river', 'rj', 'rk', 'rl', 'rn', 'road', 'roar', 'rob', 'robbiewilliams', 'robert', 'robin', 'robot', 'robotics', 'rochester', 'rock', 'rocket', 'rockstar', 'roger', 'rogers', 'roi', 'role', 'roleplay', 'roleplayer', 'roll', 'rolling', 'rolltide', 'roman', 'romance', 'romantic', 'rome', 'ron', 'roof', 'rookie', 'room', 'root', 'rose', 'ross', 'rossi', 'rough', 'round', 'rover', 'row', 'rowyso', 'royal', 'royalty', 'rp', 'rsn', 'rt', 'rts', 'ru', 'rubbish', 'ruby', 'rugby', 'ruin', 'ruined', 'rule', 'ruler', 'run', 'runner', 'runnin', 'running', 'rural', 'rush', 'russell', 'ryan', 'ryerson', 'rzoj', 'sa', 'saber', 'sabre', 'sac', 'sacrifice', 'sad', 'safc', 'safe', 'safety', 'sage', 'sagittarius', 'said', 'sailor', 'saint', 'sale', 'salon', 'salt', 'sam', 'samsung', 'san', 'sandra', 'sandwich', 'sane', 'santa', 'sap', 'sarah', 'sarcasm', 'sarcastic', 'sas', 'sassy', 'sat', 'satan', 'satire', 'satisfaction', 'satisfied', 'saturday', 'sauce', 'savage', 'savannah', 'save', 'saved', 'saving', 'savior', 'saviour', 'saw', 'say', 'saya', 'sayin', 'saying', 'sb', 'sc', 'scar', 'scared', 'scary', 'scbwi', 'scene', 'scholar', 'school', 'sci', 'science', 'scientific', 'scientist', 'scifi', 'scorpio', 'scotch', 'scotland', 'scott', 'scottish', 'scout', 'scouting', 'scream', 'screen', 'screenwriter', 'script', 'scum', 'se', 'sea', 'seafood', 'search', 'searching', 'season', 'seattle', 'sebastian', 'sec', 'second', 'secret', 'secretary', 'sector', 'secure', 'security', 'seek', 'seeker', 'seeking', 'seen', 'select', 'selection', 'selena', 'selenator', 'self', 'selfies', 'sell', 'seller', 'selling', 'sem', 'semi', 'sen', 'send', 'senior', 'senpai', 'sense', 'sent', 'sentence', 'seo', 'separation', 'september', 'ser', 'serial', 'series', 'seriously', 'servant', 'serve', 'served', 'server', 'service', 'serving', 'session', 'set', 'setting', 'seventeen', 'sex', 'sexy', 'sf', 'sg', 'shade', 'shall', 'shape', 'share', 'shared', 'sharepoint', 'sharing', 'shark', 'sharp', 'shawn', 'shawnmendes', 'shawol', 'sheep', 'sheffield', 'shelby', 'shelter', 'sherlock', 'shield', 'shine', 'ship', 'shipper', 'shipping', 'shirt', 'shit', 'shitposting', 'shoe', 'shoot', 'shooter', 'shop', 'shopping', 'shore', 'short', 'shot', 'shoulder', 'shout', 'showing', 'shred', 'shut', 'shy', 'si', 'sica', 'sick', 'sierra', 'sigh', 'sight', 'sign', 'signed', 'silence', 'silent', 'silly', 'silver', 'simple', 'simplicity', 'simply', 'simpson', 'sin', 'sing', 'singer', 'singing', 'single', 'sings', 'sinner', 'sir', 'siren', 'sister', 'sit', 'site', 'sitting', 'situation', 'size', 'ska', 'skate', 'skater', 'skating', 'sketch', 'ski', 'skier', 'skiing', 'skill', 'skin', 'skincare', 'skinny', 'skool', 'sky', 'skype', 'sl', 'slacker', 'slay', 'slayer', 'sleep', 'sleeper', 'sleeping', 'slice', 'slight', 'slightly', 'sloth', 'slow', 'slut', 'slytherin', 'sm', 'small', 'smart', 'smarta', 'smarter', 'smash', 'smell', 'smile', 'smiled', 'smiling', 'smith', 'smm', 'smoke', 'smol', 'smooth', 'sn', 'snack', 'snake', 'snap', 'snapchat', 'snark', 'snarky', 'sneaker', 'snob', 'snow', 'snowboard', 'snp', 'snsanalytics', 'soap', 'sobre', 'soccer', 'social', 'socialism', 'socialist', 'socially', 'socialmedia', 'society', 'sock', 'sofia', 'soft', 'softball', 'software', 'solar', 'sold', 'soldier', 'solemnly', 'solid', 'solo', 'solution', 'solve', 'somebody', 'someday', 'somerset', 'somos', 'son', 'song', 'songwriter', 'sono', 'sony', 'soon', 'sophisticated', 'sophomore', 'sorry', 'sort', 'sosfam', 'sou', 'soul', 'sound', 'soundcloud', 'source', 'south', 'southampton', 'southern', 'sox', 'soy', 'spa', 'space', 'spaghetti', 'spain', 'spam', 'spaniel', 'spanish', 'spare', 'spark', 'sparkly', 'speak', 'speaker', 'speaking', 'speaks', 'spear', 'special', 'specialise', 'specialising', 'specialist', 'specialize', 'specializing', 'specialty', 'specific', 'speech', 'speed', 'spelling', 'spend', 'spending', 'spent', 'spider', 'spirit', 'spiritual', 'spiritualist', 'spiritually', 'splatoon', 'spoiler', 'sponsor', 'sponsored', 'spooky', 'sport', 'sporting', 'sportswriter', 'spot', 'spouse', 'spread', 'spreading', 'spring', 'spur', 'squad', 'square', 'squat', 'sr', 'st', 'staff', 'staffing', 'stage', 'stan', 'stand', 'standard', 'standing', 'stanford', 'star', 'starbucks', 'start', 'started', 'starting', 'startup', 'starwars', 'state', 'statement', 'station', 'statistic', 'stats', 'status', 'stay', 'staying', 'steal', 'steam', 'steelers', 'stem', 'step', 'steve', 'steven', 'stick', 'stock', 'stocking', 'stole', 'stone', 'stoner', 'stood', 'stop', 'stopped', 'storage', 'store', 'storm', 'story', 'storyteller', 'straight', 'strange', 'stranger', 'strategic', 'strategist', 'strategy', 'strawberry', 'stream', 'streamer', 'streaming', 'street', 'strength', 'stress', 'stressed', 'stretching', 'stripper', 'strive', 'strong', 'struggle', 'struggling', 'stuck', 'student', 'studio', 'study', 'studying', 'stuff', 'stunning', 'stunt', 'stupid', 'style', 'stylish', 'stylist', 'su', 'sub', 'subject', 'submission', 'submissive', 'submit', 'submitted', 'subscribe', 'subscriber', 'subscription', 'substantive', 'subtly', 'subtraction', 'succeed', 'success', 'successful', 'suck', 'sue', 'suffer', 'sufferer', 'suffering', 'sugar', 'suggestion', 'suicide', 'suit', 'summer', 'sun', 'sunday', 'sunny', 'sunset', 'sunshine', 'sup', 'super', 'superb', 'superhero', 'superheroes', 'superintendent', 'superior', 'supernatural', 'superstar', 'supplier', 'supply', 'support', 'supported', 'supporter', 'supporting', 'supposed', 'supreme', 'sure', 'surf', 'surface', 'surfer', 'surfing', 'surgeon', 'surgery', 'surplus', 'surprised', 'surrounding', 'survival', 'survive', 'survivor', 'sushi', 'sussex', 'sustainability', 'sustainable', 'sv', 'sw', 'swear', 'swears', 'sweat', 'swedish', 'sweet', 'sweetest', 'sweetheart', 'swift', 'swim', 'swimmer', 'swimming', 'swing', 'swiss', 'switch', 'sword', 'syd', 'sydney', 'sykes', 'syracuse', 'ta', 'table', 'taco', 'taehyung', 'tag', 'taiji', 'taken', 'taker', 'takethat', 'taking', 'tale', 'talent', 'talented', 'talk', 'talker', 'talkin', 'talking', 'talkradio', 'tall', 'tampa', 'tamu', 'tank', 'targeted', 'taste', 'tattoo', 'tattooed', 'taught', 'tax', 'taxplanning', 'taylor', 'tbh', 'tbol', 'tcot', 'te', 'tea', 'teach', 'teacher', 'teaching', 'team', 'teamfollowback', 'teamindy', 'teamwork', 'teaparty', 'tear', 'tech', 'techgeek', 'techie', 'technical', 'technician', 'technique', 'technology', 'ted', 'teen', 'teenage', 'teenager', 'teenwolf', 'teeth', 'tel', 'telegram', 'telegraph', 'television', 'tell', 'telling', 'telly', 'temperature', 'temple', 'tend', 'tengo', 'tennessee', 'tennis', 'term', 'terrible', 'terrier', 'terror', 'terrorist', 'terry', 'test', 'testing', 'texan', 'texas', 'text', 'textbook', 'tf', 'tg', 'tgod', 'th', 'thai', 'thank', 'thankful', 'thanks', 'thats', 'theater', 'theatre', 'thefullbleed', 'theo', 'theory', 'therapist', 'therapy', 'thfc', 'thigh', 'thing', 'think', 'thinker', 'thinking', 'thmatrix', 'tho', 'thoctober', 'thomas', 'thought', 'thousand', 'threat', 'thriller', 'thrive', 'thriving', 'throne', 'throw', 'thrown', 'thug', 'thunder', 'thursday', 'thy', 'ticket', 'tide', 'tie', 'tiger', 'til', 'till', 'tim', 'time', 'timeless', 'timeline', 'tiny', 'tip', 'tired', 'titan', 'title', 'tl', 'tna', 'toda', 'today', 'toddler', 'todo', 'told', 'tom', 'tomboy', 'tomlinson', 'tomorrow', 'tone', 'tongue', 'tonight', 'tony', 'took', 'tool', 'topic', 'tormented', 'toronto', 'torus', 'tory', 'total', 'totally', 'tottenham', 'touch', 'tough', 'tour', 'tourism', 'tournament', 'town', 'toy', 'track', 'tracking', 'trade', 'trader', 'trading', 'traditional', 'traffic', 'trail', 'trailblazer', 'train', 'trained', 'trainee', 'trainer', 'training', 'trance', 'trans', 'transfer', 'translator', 'transport', 'transportation', 'trap', 'trapped', 'trash', 'trauma', 'travel', 'traveler', 'traveling', 'traveller', 'travelling', 'treasure', 'treat', 'tree', 'trek', 'trend', 'trending', 'triathlete', 'trick', 'tried', 'trip', 'triple', 'troll', 'trophy', 'trouble', 'troublemaker', 'truck', 'true', 'truly', 'trump', 'trust', 'trusted', 'truth', 'try', 'trying', 'tryna', 'tt', 'tu', 'tuition', 'tumblr', 'tune', 'turn', 'turned', 'turning', 'turtle', 'tutor', 'tutorial', 'tv', 'tvd', 'tw', 'twd', 'tweet', 'tweeted', 'tweeter', 'tweeting', 'tweetmyjobs', 'twice', 'twin', 'twist', 'twisted', 'twit', 'twitch', 'twitter', 'twitterfeed', 'tx', 'txdxm', 'txst', 'ty', 'tyler', 'type', 'typical', 'uber', 'uc', 'ucf', 'ucla', 'uclu', 'ufc', 'ufo', 'uga', 'ugly', 'uh', 'ui', 'uk', 'ul', 'ultimate', 'ultra', 'um', 'una', 'unapologetic', 'unbelievable', 'unbiased', 'unborn', 'unbothered', 'unbreakable', 'unc', 'uncg', 'uncle', 'und', 'undergrad', 'undergraduate', 'underground', 'underserved', 'understand', 'understanding', 'undertale', 'unfollow', 'unfortunately', 'unhappy', 'unhealthy', 'uni', 'unicorn', 'union', 'unique', 'unit', 'united', 'universal', 'universe', 'university', 'unless', 'unlimited', 'unlock', 'uno', 'unofficial', 'unsigned', 'unstoppable', 'unt', 'untuk', 'unusual', 'upcoming', 'update', 'updated', 'upload', 'ups', 'upstate', 'ur', 'urban', 'urge', 'urself', 'usa', 'usaf', 'usc', 'use', 'used', 'useful', 'useless', 'user', 'using', 'usmc', 'usn', 'usually', 'uswnt', 'ut', 'utd', 'uva', 'uw', 'ux', 'va', 'vacation', 'vale', 'valley', 'valuable', 'value', 'vamp', 'vampire', 'van', 'vancouver', 'variety', 'various', 'varsity', 'vcu', 'vega', 'vegan', 'vegetarian', 'vehicle', 'vein', 'vendor', 'venture', 'venue', 'ver', 'verified', 'vermont', 'verse', 'version', 'vet', 'veteran', 'vfyu', 'vi', 'vibe', 'vibrant', 'vice', 'victoria', 'victory', 'vida', 'video', 'videodirector', 'videogames', 'videographer', 'vietnam', 'view', 'viewer', 'viking', 'villa', 'village', 'villain', 'vincit', 'vine', 'vintage', 'vinyl', 'violence', 'vip', 'viral', 'virgin', 'virginia', 'virgo', 'virtual', 'vision', 'visionary', 'visit', 'visiting', 'visual', 'vita', 'vivo', 'vlogger', 'vo', 'voc', 'vocal', 'vocalist', 'vofn', 'vofnmail', 'voice', 'voiceover', 'void', 'volleyball', 'vols', 'voltron', 'volume', 'volunteer', 'volunteering', 'vote', 'voted', 'voter', 'voting', 'vous', 'vp', 'vxoud', 'wa', 'waifu', 'wait', 'waiting', 'wake', 'wale', 'walk', 'walker', 'walking', 'wall', 'walt', 'wan', 'wanderer', 'wandering', 'wanderlust', 'wank', 'wannabe', 'want', 'wanted', 'wanting', 'war', 'ward', 'warming', 'warned', 'warning', 'warped', 'warren', 'warrior', 'washington', 'wassup', 'waste', 'watch', 'watcher', 'watching', 'water', 'wave', 'way', 'wayne', 'weak', 'wealth', 'weapon', 'wear', 'wearer', 'wearing', 'weather', 'web', 'webcomic', 'website', 'wed', 'wedding', 'wednesday', 'weeaboo', 'weeb', 'weed', 'week', 'weekday', 'weekend', 'weekly', 'weight', 'weightlosscoach', 'weird', 'weirdo', 'welcome', 'welfare', 'wellbeing', 'wellness', 'welsh', 'welshbiz', 'went', 'wentworth', 'west', 'western', 'wet', 'weynt', 'wh', 'whats', 'whatsapp', 'wheel', 'wheelchair', 'whiskey', 'whisky', 'white', 'whore', 'whovian', 'wi', 'wicked', 'wide', 'widely', 'widget', 'wife', 'wifi', 'wild', 'wilderness', 'wildlife', 'williams', 'willing', 'wilson', 'win', 'wind', 'window', 'wine', 'wing', 'winner', 'winning', 'winter', 'wire', 'wired', 'wireless', 'wisconsin', 'wisdom', 'wise', 'wish', 'wit', 'witch', 'witty', 'wiz', 'wizard', 'wolf', 'woman', 'wonder', 'wonderful', 'wont', 'wood', 'word', 'wordpress', 'work', 'workbook', 'worked', 'worker', 'working', 'workout', 'worksheet', 'workshop', 'world', 'worldwide', 'worn', 'worried', 'worry', 'worse', 'worship', 'worst', 'worth', 'wow', 'wrangler', 'wrapped', 'wrestler', 'wrestling', 'write', 'writer', 'writes', 'writing', 'written', 'wrong', 'wrote', 'wsu', 'wtf', 'wwe', 'xbox', 'xd', 'xiv', 'xl', 'xo', 'xperia', 'xv', 'xx', 'xxx', 'xz', 'ya', 'yahoo', 'yang', 'yankee', 'ye', 'yeah', 'year', 'yellow', 'yes', 'yesterday', 'yg', 'ym', 'ynwa', 'yo', 'yoga', 'yogi', 'york', 'yorker', 'yorkshire', 'yorkshireman', 'young', 'younow', 'youth', 'youtube', 'youtuber', 'youtubers', 'yr', 'ysk', 'yt', 'yuri', 'za', 'zayn', 'zealand', 'zero', 'zfgj', 'zjxrf', 'zombie', 'zone', 'zoo', 'zoologist', 'zquad']\n"
     ]
    }
   ],
   "source": [
    "print(\"en sık kullanılan 5000 kelimeler : \",count_vectorizer.get_feature_names())"
   ]
  },
  {
   "cell_type": "code",
   "execution_count": 35,
   "id": "2eaeaa48",
   "metadata": {},
   "outputs": [],
   "source": [
    "y = data.iloc[:,0].values  # male or female classes\n",
    "x = sparce_matrix"
   ]
  },
  {
   "cell_type": "code",
   "execution_count": 36,
   "id": "2005ebe5",
   "metadata": {},
   "outputs": [],
   "source": [
    "# train test split\n",
    "from sklearn.model_selection import train_test_split\n",
    "x_train, x_test, y_train, y_test = train_test_split(x,y,test_size=0.1, random_state=42)"
   ]
  },
  {
   "cell_type": "code",
   "execution_count": 37,
   "id": "cc41ad52",
   "metadata": {},
   "outputs": [
    {
     "name": "stdout",
     "output_type": "stream",
     "text": [
      "accuracy:  0.48120764017252005\n"
     ]
    }
   ],
   "source": [
    "# naive bayes\n",
    "from sklearn.naive_bayes import GaussianNB\n",
    "nb = GaussianNB()\n",
    "nb.fit(x_train,y_train)\n",
    "# prediction\n",
    "y_pred = nb.predict(x_test).reshape(-1,1)\n",
    "print(\"accuracy: \",nb.score(y_pred,y_test))"
   ]
  },
  {
   "cell_type": "code",
   "execution_count": null,
   "id": "f4acf766",
   "metadata": {},
   "outputs": [],
   "source": []
  }
 ],
 "metadata": {
  "kernelspec": {
   "display_name": "Python 3",
   "language": "python",
   "name": "python3"
  },
  "language_info": {
   "codemirror_mode": {
    "name": "ipython",
    "version": 3
   },
   "file_extension": ".py",
   "mimetype": "text/x-python",
   "name": "python",
   "nbconvert_exporter": "python",
   "pygments_lexer": "ipython3",
   "version": "3.8.8"
  }
 },
 "nbformat": 4,
 "nbformat_minor": 5
}
