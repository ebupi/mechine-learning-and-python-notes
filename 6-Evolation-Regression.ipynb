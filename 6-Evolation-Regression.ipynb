{
 "cells": [
  {
   "cell_type": "code",
   "execution_count": 1,
   "id": "4dde6abc",
   "metadata": {},
   "outputs": [],
   "source": [
    "import pandas as pd\n",
    "import numpy as np\n",
    "import matplotlib.pyplot as plt\n",
    "plt.style.use(\"seaborn-whitegrid\")"
   ]
  },
  {
   "cell_type": "code",
   "execution_count": 2,
   "id": "d15b3ed0",
   "metadata": {},
   "outputs": [],
   "source": [
    "# Random Forest with R_square"
   ]
  },
  {
   "cell_type": "code",
   "execution_count": 5,
   "id": "74506f0d",
   "metadata": {},
   "outputs": [],
   "source": [
    "df = pd.read_csv(\"csv/random+forest+regression+dataset.csv\",sep=\";\",header=None)\n",
    "\n",
    "x = df.iloc[:,0].values.reshape(-1,1)\n",
    "y = df.iloc[:,1].values.reshape(-1,1)"
   ]
  },
  {
   "cell_type": "code",
   "execution_count": 6,
   "id": "7d6df0b2",
   "metadata": {},
   "outputs": [
    {
     "name": "stdout",
     "output_type": "stream",
     "text": [
      "7.5 seviyesinde fiyatın ne kadar olduğu :  [28.]\n"
     ]
    },
    {
     "name": "stderr",
     "output_type": "stream",
     "text": [
      "<ipython-input-6-bfdafa2ae484>:3: DataConversionWarning: A column-vector y was passed when a 1d array was expected. Please change the shape of y to (n_samples,), for example using ravel().\n",
      "  rf.fit(x,y)\n"
     ]
    }
   ],
   "source": [
    "from sklearn.ensemble import RandomForestRegressor\n",
    "rf = RandomForestRegressor(n_estimators = 100, random_state = 42)\n",
    "rf.fit(x,y)\n",
    "print(\"7.5 seviyesinde fiyatın ne kadar olduğu : \",rf.predict([[7.5]]))"
   ]
  },
  {
   "cell_type": "code",
   "execution_count": 7,
   "id": "ce36a9d0",
   "metadata": {},
   "outputs": [],
   "source": [
    "y_head = rf.predict(x)"
   ]
  },
  {
   "cell_type": "code",
   "execution_count": 8,
   "id": "e6d78547",
   "metadata": {},
   "outputs": [
    {
     "name": "stdout",
     "output_type": "stream",
     "text": [
      "r_score :  0.9798724794092587\n"
     ]
    }
   ],
   "source": [
    "# model degerlendirme metrics\n",
    "from sklearn.metrics import r2_score\n",
    "print(\"r_score : \", r2_score(y,y_head))"
   ]
  },
  {
   "cell_type": "code",
   "execution_count": 9,
   "id": "fdd26488",
   "metadata": {},
   "outputs": [],
   "source": [
    "# Lineer Regression with R_square"
   ]
  },
  {
   "cell_type": "code",
   "execution_count": 10,
   "id": "a9ea5b5d",
   "metadata": {},
   "outputs": [],
   "source": [
    "df = pd.read_csv(\"csv/linear_regression_dataset.csv\", sep = \";\")"
   ]
  },
  {
   "cell_type": "code",
   "execution_count": 14,
   "id": "0318d827",
   "metadata": {},
   "outputs": [
    {
     "data": {
      "text/plain": [
       "[<matplotlib.lines.Line2D at 0x7fd011b099a0>]"
      ]
     },
     "execution_count": 14,
     "metadata": {},
     "output_type": "execute_result"
    },
    {
     "data": {
      "image/png": "[encoded data removed]",
      "text/plain": [
       "<Figure size 432x288 with 1 Axes>"
      ]
     },
     "metadata": {},
     "output_type": "display_data"
    }
   ],
   "source": [
    "# draw linear regression with sklearn\n",
    "from sklearn.linear_model import LinearRegression\n",
    "\n",
    "linear_reg = LinearRegression()\n",
    "\n",
    "x = df.deneyim.values.reshape(-1,1)\n",
    "y = df.maas.values.reshape(-1,1)\n",
    "\n",
    "linear_reg.fit(x,y)\n",
    "\n",
    "y_head = linear_reg.predict(x)\n",
    "plt.scatter(x,y)\n",
    "plt.plot(x, y_head, color=\"red\")"
   ]
  },
  {
   "cell_type": "code",
   "execution_count": 15,
   "id": "fc9c22da",
   "metadata": {},
   "outputs": [
    {
     "name": "stdout",
     "output_type": "stream",
     "text": [
      "r_square score :  0.9775283164949902\n"
     ]
    }
   ],
   "source": [
    "print(\"r_square score : \", r2_score(y,y_head))"
   ]
  },
  {
   "cell_type": "code",
   "execution_count": null,
   "id": "48e0930e",
   "metadata": {},
   "outputs": [],
   "source": []
  }
 ],
 "metadata": {
  "kernelspec": {
   "display_name": "Python 3",
   "language": "python",
   "name": "python3"
  },
  "language_info": {
   "codemirror_mode": {
    "name": "ipython",
    "version": 3
   },
   "file_extension": ".py",
   "mimetype": "text/x-python",
   "name": "python",
   "nbconvert_exporter": "python",
   "pygments_lexer": "ipython3",
   "version": "3.8.8"
  }
 },
 "nbformat": 4,
 "nbformat_minor": 5
}
